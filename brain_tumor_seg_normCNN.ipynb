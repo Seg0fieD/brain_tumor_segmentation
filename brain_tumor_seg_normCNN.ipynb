{
  "cells": [
    {
      "cell_type": "markdown",
      "metadata": {
        "id": "4MWFFJRufQZT"
      },
      "source": [
        "### Import"
      ]
    },
    {
      "cell_type": "code",
      "execution_count": 2,
      "metadata": {
        "colab": {
          "base_uri": "https://localhost:8080/"
        },
        "id": "51Vic5AMfUPa",
        "outputId": "1ea853dd-e73e-4dea-8274-4f1f247e18c1"
      },
      "outputs": [
        {
          "name": "stdout",
          "output_type": "stream",
          "text": [
            "Mounted at /content/drive\n"
          ]
        }
      ],
      "source": [
        "# # prompt: mount drive\n",
        "\n",
        "# from google.colab import drive\n",
        "# drive.mount('/content/drive')\n"
      ]
    },
    {
      "cell_type": "code",
      "execution_count": 3,
      "metadata": {
        "colab": {
          "base_uri": "https://localhost:8080/"
        },
        "id": "w0FNdXu5ftlg",
        "outputId": "3c3039d9-6d2d-4577-e5e1-2e4443e43755"
      },
      "outputs": [
        {
          "name": "stdout",
          "output_type": "stream",
          "text": [
            "/content/drive/MyDrive/Colab_Notebooks/ML/image_seg\n"
          ]
        }
      ],
      "source": [
        "#%cd '/content/drive/MyDrive/Colab_Notebooks/ML/image_seg/'"
      ]
    },
    {
      "cell_type": "code",
      "execution_count": 1,
      "metadata": {
        "id": "Z-w8hbJlhJOa"
      },
      "outputs": [],
      "source": [
        "import os\n",
        "import io\n",
        "import numpy as np\n",
        "import pandas as pd\n",
        "import matplotlib.pyplot as plt\n",
        "from sklearn.metrics import accuracy_score\n",
        "from sklearn.model_selection import train_test_split\n",
        "from sklearn.utils import shuffle\n",
        "from sklearn.metrics import classification_report, confusion_matrix, ConfusionMatrixDisplay\n",
        "import ipywidgets #externally create label\n",
        "from PIL import Image\n",
        "import tqdm\n",
        "import cv2\n",
        "\n",
        "import torch\n",
        "import torch.nn as nn\n",
        "import torch.nn.functional as F\n",
        "from torch.utils.data import random_split, DataLoader, Dataset, TensorDataset\n",
        "from torchsummary import summary\n",
        "import torchvision.transforms as transforms\n",
        "\n",
        "from torchvision.transforms import v2\n",
        "\n"
      ]
    },
    {
      "cell_type": "code",
      "execution_count": 2,
      "metadata": {
        "colab": {
          "base_uri": "https://localhost:8080/"
        },
        "id": "3y_6Jx0yfQZX",
        "outputId": "b3af3e23-41fe-4360-ddf1-f4ce6080a445"
      },
      "outputs": [
        {
          "name": "stdout",
          "output_type": "stream",
          "text": [
            "Using cuda device\n"
          ]
        }
      ],
      "source": [
        "device = (\n",
        "    'cuda'\n",
        "    if torch.cuda.is_available()\n",
        "    else 'cpu'\n",
        ")\n",
        "\n",
        "print(f\"Using {device} device\")"
      ]
    },
    {
      "cell_type": "markdown",
      "metadata": {
        "id": "Rq8NBjVHhJOb"
      },
      "source": [
        "## Data extraction and shuffling"
      ]
    },
    {
      "cell_type": "code",
      "execution_count": 3,
      "metadata": {
        "id": "NhqjMMi7PuSr"
      },
      "outputs": [],
      "source": [
        "image_size = 150 #scaling a constant image size\n",
        "labels = ['glioma', 'meningioma', 'notumor', 'pituitary']"
      ]
    },
    {
      "cell_type": "code",
      "execution_count": 4,
      "metadata": {
        "id": "qd1TLKm5j71X"
      },
      "outputs": [],
      "source": [
        "label_idx = {\n",
        "    'glioma': 0,\n",
        "    'meningioma': 1,\n",
        "    'notumor': 2,\n",
        "    'pituitary': 3\n",
        "}"
      ]
    },
    {
      "cell_type": "code",
      "execution_count": 18,
      "metadata": {},
      "outputs": [],
      "source": [
        "#\"projects\\proj2\\data\\Training\""
      ]
    },
    {
      "cell_type": "code",
      "execution_count": 5,
      "metadata": {
        "id": "F280PeBShJOd"
      },
      "outputs": [],
      "source": [
        "X = []\n",
        "y = []\n",
        "\n",
        "for i in labels:\n",
        "    folderPath = os.path.join('data\\Training', i) #each iteration in training folder\n",
        "    for j in os.listdir(folderPath):                                               # read the images in the dir\n",
        "        img = cv2.imread(os.path.join(folderPath, j))\n",
        "        if img is not None:\n",
        "            img = cv2.resize(img,(image_size, image_size))                                        # resale the image\n",
        "            X.append(img)\n",
        "            y.append(label_idx[i])                                                          # the ith label will the y\n",
        "\n",
        "for i in labels:\n",
        "    folderPath = os.path.join('data\\Testing', i)\n",
        "    for j in os.listdir(folderPath):\n",
        "        img = cv2.imread(os.path.join(folderPath, j))\n",
        "        if img is not None:\n",
        "            img = cv2.resize(img,(image_size, image_size))\n",
        "            X.append(img)\n",
        "            y.append(label_idx[i])\n",
        "                                                                # all test and train data are put into X and y train, then they will be shuffeled\n",
        "\n",
        "\n",
        "X = np.array(X, dtype = np.float32)\n",
        "y = np.array(y, dtype = np.float32)\n",
        "\n"
      ]
    },
    {
      "cell_type": "code",
      "execution_count": 6,
      "metadata": {
        "id": "c2HG7yH9fQZZ"
      },
      "outputs": [],
      "source": [
        "X = torch.from_numpy(X)\n",
        "y = torch.from_numpy(y)"
      ]
    },
    {
      "cell_type": "markdown",
      "metadata": {
        "id": "muTnFwj7hJOf"
      },
      "source": [
        "## Train Test Split"
      ]
    },
    {
      "cell_type": "code",
      "execution_count": 7,
      "metadata": {
        "colab": {
          "base_uri": "https://localhost:8080/"
        },
        "id": "-gls9IgxhJOU",
        "outputId": "a25b4270-cde7-4d15-fc60-db0bd3628ce5"
      },
      "outputs": [
        {
          "data": {
            "text/plain": [
              "(torch.Size([7023, 150, 150, 3]), torch.Size([7023]))"
            ]
          },
          "execution_count": 7,
          "metadata": {},
          "output_type": "execute_result"
        }
      ],
      "source": [
        "X.shape, y.shape"
      ]
    },
    {
      "cell_type": "code",
      "execution_count": 8,
      "metadata": {
        "id": "JFWpuPuihJOf"
      },
      "outputs": [],
      "source": [
        "# split whole dataset into training and test set\n",
        "X_train_temp, X_test, y_train_temp, y_test = train_test_split(X, y, test_size = 0.15, random_state = 107, shuffle = True)\n",
        "\n",
        "# split training into train and validation set\n",
        "X_train, X_val, y_train, y_val = train_test_split(X_train_temp, y_train_temp, test_size = 0.15, random_state = 42, shuffle = True)"
      ]
    },
    {
      "cell_type": "code",
      "execution_count": null,
      "metadata": {
        "colab": {
          "base_uri": "https://localhost:8080/",
          "height": 1000
        },
        "id": "Ir9L7STD68vB",
        "outputId": "f107eef9-ac9e-455b-84fa-e5c7b774d92e"
      },
      "outputs": [],
      "source": [
        "# prompt: plot a histogram plot of y_test, y_val, y_train separately\n",
        "\n",
        "\n",
        "\n",
        "# # Plot histogram for y_test\n",
        "# plt.hist(y_test, bins=4)\n",
        "# plt.title(\"Histogram of y_test\")\n",
        "# plt.show()\n",
        "\n",
        "# # Plot histogram for y_val\n",
        "# plt.hist(y_val, bins=4)\n",
        "# plt.title(\"Histogram of y_val\")\n",
        "# plt.show()\n",
        "\n",
        "# # Plot histogram for y_train\n",
        "# plt.hist(y_train, bins=4)\n",
        "# plt.title(\"Histogram of y_train\")\n",
        "# plt.show()\n"
      ]
    },
    {
      "cell_type": "markdown",
      "metadata": {
        "id": "s3D2RcsnhJOh"
      },
      "source": [
        "# Model Architecture"
      ]
    },
    {
      "cell_type": "code",
      "execution_count": 24,
      "metadata": {
        "id": "Z-QBjMIzyQFo"
      },
      "outputs": [],
      "source": [
        "class BrainSegCNN(nn.Module):\n",
        "    def __init__(self):\n",
        "        super(BrainSegCNN, self).__init__()\n",
        "        self.conv1 = nn.Conv2d(3, 32, kernel_size=3, padding=1)\n",
        "        self.conv2 = nn.Conv2d(32, 64, kernel_size=3, padding=1)\n",
        "        self.pool = nn.MaxPool2d(2, 2)\n",
        "        self.dropout = nn.Dropout(0.1)\n",
        "        self.conv3 = nn.Conv2d(64, 128, kernel_size=3, padding=1)\n",
        "        self.conv4 = nn.Conv2d(128, 256, kernel_size=3, padding=1)\n",
        "        self.flatten = nn.Flatten()\n",
        "        self.fc1 = nn.Linear(256 * 18 * 18, 512)  # Update dimensions after pooling\n",
        "        self.fc2 = nn.Linear(512, 512)\n",
        "        self.fc3 = nn.Linear(512, 4)\n",
        "\n",
        "    def forward(self, x):\n",
        "        x = F.relu(self.conv1(x))\n",
        "        x = F.relu(self.conv2(x))\n",
        "        x = self.pool(x)\n",
        "        x = self.dropout(x)\n",
        "        x = F.relu(self.conv3(x))\n",
        "        x = self.pool(x)\n",
        "        x = self.dropout(x)\n",
        "        x = F.relu(self.conv4(x))\n",
        "        x = self.pool(x)\n",
        "        x = self.dropout(x)\n",
        "        x = self.flatten(x)\n",
        "        x = F.relu(self.fc1(x))\n",
        "        x = F.relu(self.fc2(x))\n",
        "        x = self.dropout(x)\n",
        "        x = F.softmax(self.fc3(x), dim = 1)\n",
        "        return x"
      ]
    },
    {
      "cell_type": "markdown",
      "metadata": {
        "id": "IrmiMhVpfQZb"
      },
      "source": [
        "# Augmentation"
      ]
    },
    {
      "cell_type": "code",
      "execution_count": 9,
      "metadata": {
        "id": "p2yMWooSfQZb"
      },
      "outputs": [],
      "source": [
        "class AugmentedDataset(Dataset):\n",
        "    def __init__(self, images, labels, transform=None):\n",
        "        self.images = images\n",
        "        self.labels = labels\n",
        "        self.transform = transform\n",
        "\n",
        "    def __len__(self):\n",
        "        return len(self.images)\n",
        "\n",
        "    def __getitem__(self, idx):\n",
        "        image = self.images[idx]\n",
        "        label = self.labels[idx]\n",
        "        label = torch.as_tensor(label, dtype=torch.long)\n",
        "        image = torch.permute(image, (2, 0, 1))\n",
        "        if self.transform:\n",
        "\n",
        "            image = self.transform(image)\n",
        "\n",
        "        return image, label\n",
        "\n",
        "# Define data augmentations\n",
        "transform = transforms.Compose([\n",
        "    #transforms.ToPILImage(),\n",
        "    transforms.RandomHorizontalFlip(),\n",
        "    transforms.RandomRotation(10),\n",
        "    transforms.RandomResizedCrop(150)\n",
        "])\n",
        "\n",
        "\n",
        "\n",
        "# Prepare datasets with augmentations\n",
        "train_dataset = AugmentedDataset(X_train, y_train, transform=transform)\n",
        "val_dataset = AugmentedDataset(X_val, y_val)  # No augmentations for validation\n",
        "test_dataset = AugmentedDataset(X_test, y_test) #, transform=transforms.ToTensor())  # No augmentations for test\n",
        "\n"
      ]
    },
    {
      "cell_type": "markdown",
      "metadata": {
        "id": "Y_U89eQKfQZc"
      },
      "source": [
        "# Train loop"
      ]
    },
    {
      "cell_type": "code",
      "execution_count": 10,
      "metadata": {
        "id": "89Fv1TrmfQZc"
      },
      "outputs": [],
      "source": [
        "# Training function\n",
        "def train(model, criterion, optimizer, train_loader, val_loader, epochs):\n",
        "    train_loss_history = []\n",
        "    val_loss_history = []\n",
        "    train_acc_history = []\n",
        "    val_acc_history = []\n",
        "\n",
        "    for epoch in range(epochs):\n",
        "        model.train()\n",
        "        running_loss = 0.0\n",
        "        correct = 0\n",
        "        total = 0\n",
        "        batch = 0\n",
        "\n",
        "        for image, label in train_loader:\n",
        "            image = image.to(device)  # Move image to device and convert to float\n",
        "            label = label.to(device)\n",
        "            outputs = model(image)\n",
        "\n",
        "            loss = criterion(outputs, label)\n",
        "            optimizer.zero_grad()\n",
        "            loss.backward()\n",
        "            optimizer.step()\n",
        "\n",
        "            running_loss += loss.item()\n",
        "            #_, predicted = torch.max(outputs.data, 1)\n",
        "            #total += label.size(0)\n",
        "            #correct += (predicted == label).sum().item()\n",
        "            # print(f\"Batch no. : {batch}\")\n",
        "            # batch = batch + 1\n",
        "\n",
        "            outputs_label = torch.argmax(outputs , dim = 1)\n",
        "            correct += torch.sum(outputs_label == label)\n",
        "            total += label.size(0)\n",
        "\n",
        "        train_loss = running_loss / len(train_loader)\n",
        "        train_acc = correct / total\n",
        "        train_loss_history.append(train_loss)\n",
        "        train_acc_history.append(train_acc)\n",
        "\n",
        "        # Validation\n",
        "        model.eval()\n",
        "        val_loss = 0.0\n",
        "        correct = 0\n",
        "        total = 0\n",
        "\n",
        "        with torch.no_grad():\n",
        "            for image, label in val_loader:\n",
        "                image = image.to(device)\n",
        "                label = label.to(device)\n",
        "                outputs = model(image)\n",
        "                #output_label = torch.argmax(outputs, dim = 1)\n",
        "                loss = criterion(outputs, label)\n",
        "                val_loss += loss.item()\n",
        "                _, predicted = torch.max(outputs.data, 1)\n",
        "                total += label.size(0)\n",
        "                correct += (predicted == label).sum().item()\n",
        "\n",
        "        val_loss = val_loss / len(val_loader)\n",
        "        val_acc = correct / total\n",
        "        val_loss_history.append(val_loss)\n",
        "        val_acc_history.append(val_acc)\n",
        "\n",
        "        print(f'Epoch [{epoch + 1}/{epochs}], Train Loss: {train_loss:.4f}, Train Acc: {train_acc:.4f}, Val Loss: {val_loss:.4f}, Val Acc: {val_acc:.4f}')\n",
        "\n",
        "    return train_loss_history, val_loss_history, train_acc_history, val_acc_history"
      ]
    },
    {
      "cell_type": "markdown",
      "metadata": {
        "id": "X9Y0pM8ffQZc"
      },
      "source": [
        "# parameters arguments"
      ]
    },
    {
      "cell_type": "code",
      "execution_count": 35,
      "metadata": {
        "id": "ZWkw62inhJOj"
      },
      "outputs": [],
      "source": [
        "\n",
        "# initialize model\n",
        "model = BrainSegCNN()\n",
        "model.to(device)\n",
        "\n",
        "# loss funtion\n",
        "criterion = nn.CrossEntropyLoss()\n",
        "\n",
        "# optimizer\n",
        "optimizer = torch.optim.Adam(model.parameters(), lr  = 1e-6)\n",
        "\n",
        "# epoch\n",
        "epochs  = 50\n",
        "\n",
        "#batch size\n",
        "batch_size = 100\n",
        "\n",
        "# threads\n",
        "num_workers = 2"
      ]
    },
    {
      "cell_type": "code",
      "execution_count": 40,
      "metadata": {
        "id": "QfkT-kzwfQZc"
      },
      "outputs": [],
      "source": [
        "train_loader = DataLoader(train_dataset, batch_size=batch_size, shuffle=True)#, num_workers=num_workers) #, pin_memory=True)\n",
        "val_loader = DataLoader(val_dataset, batch_size=batch_size, shuffle=True)#, num_workers=num_workers)#, pin_memory=True)\n",
        "\n",
        "# train_loader = train_loader.to(device)\n",
        "# val_loader = val_loader.to(device)"
      ]
    },
    {
      "cell_type": "code",
      "execution_count": 41,
      "metadata": {
        "colab": {
          "base_uri": "https://localhost:8080/"
        },
        "id": "y4bVFP0NfQZc",
        "outputId": "ac974723-149f-49d2-fa29-cde497917015"
      },
      "outputs": [
        {
          "name": "stdout",
          "output_type": "stream",
          "text": [
            "Model is on cuda:0\n"
          ]
        }
      ],
      "source": [
        "device = next(model.parameters()).device\n",
        "print(f\"Model is on {device}\")"
      ]
    },
    {
      "cell_type": "markdown",
      "metadata": {
        "id": "1fUIyQZYfQZd"
      },
      "source": [
        "# Model Training"
      ]
    },
    {
      "cell_type": "code",
      "execution_count": 42,
      "metadata": {
        "colab": {
          "background_save": true
        },
        "id": "RmORZ1YKfQZd"
      },
      "outputs": [
        {
          "name": "stdout",
          "output_type": "stream",
          "text": [
            "Epoch [1/50], Train Loss: 1.3546, Train Acc: 0.2866, Val Loss: 1.3268, Val Acc: 0.4431\n",
            "Epoch [2/50], Train Loss: 1.3367, Train Acc: 0.3154, Val Loss: 1.2977, Val Acc: 0.5056\n",
            "Epoch [3/50], Train Loss: 1.3227, Train Acc: 0.3588, Val Loss: 1.2762, Val Acc: 0.5246\n",
            "Epoch [4/50], Train Loss: 1.3127, Train Acc: 0.3881, Val Loss: 1.2708, Val Acc: 0.5212\n",
            "Epoch [5/50], Train Loss: 1.3076, Train Acc: 0.3994, Val Loss: 1.2466, Val Acc: 0.5513\n",
            "Epoch [6/50], Train Loss: 1.3013, Train Acc: 0.4183, Val Loss: 1.2399, Val Acc: 0.5614\n",
            "Epoch [7/50], Train Loss: 1.2990, Train Acc: 0.4118, Val Loss: 1.2180, Val Acc: 0.5614\n",
            "Epoch [8/50], Train Loss: 1.2917, Train Acc: 0.4311, Val Loss: 1.2120, Val Acc: 0.5625\n",
            "Epoch [9/50], Train Loss: 1.2808, Train Acc: 0.4471, Val Loss: 1.2076, Val Acc: 0.5458\n",
            "Epoch [10/50], Train Loss: 1.2864, Train Acc: 0.4309, Val Loss: 1.1739, Val Acc: 0.6105\n",
            "Epoch [11/50], Train Loss: 1.2783, Train Acc: 0.4475, Val Loss: 1.1825, Val Acc: 0.6172\n",
            "Epoch [12/50], Train Loss: 1.2710, Train Acc: 0.4532, Val Loss: 1.1716, Val Acc: 0.5859\n",
            "Epoch [13/50], Train Loss: 1.2688, Train Acc: 0.4542, Val Loss: 1.1605, Val Acc: 0.6049\n",
            "Epoch [14/50], Train Loss: 1.2679, Train Acc: 0.4644, Val Loss: 1.1491, Val Acc: 0.6161\n",
            "Epoch [15/50], Train Loss: 1.2651, Train Acc: 0.4617, Val Loss: 1.1515, Val Acc: 0.6362\n",
            "Epoch [16/50], Train Loss: 1.2612, Train Acc: 0.4670, Val Loss: 1.1394, Val Acc: 0.6250\n",
            "Epoch [17/50], Train Loss: 1.2621, Train Acc: 0.4652, Val Loss: 1.1342, Val Acc: 0.6250\n",
            "Epoch [18/50], Train Loss: 1.2551, Train Acc: 0.4686, Val Loss: 1.1200, Val Acc: 0.6730\n",
            "Epoch [19/50], Train Loss: 1.2644, Train Acc: 0.4587, Val Loss: 1.1218, Val Acc: 0.6507\n",
            "Epoch [20/50], Train Loss: 1.2540, Train Acc: 0.4788, Val Loss: 1.1219, Val Acc: 0.6496\n",
            "Epoch [21/50], Train Loss: 1.2450, Train Acc: 0.4887, Val Loss: 1.1191, Val Acc: 0.6484\n",
            "Epoch [22/50], Train Loss: 1.2451, Train Acc: 0.4891, Val Loss: 1.1164, Val Acc: 0.6574\n",
            "Epoch [23/50], Train Loss: 1.2424, Train Acc: 0.4906, Val Loss: 1.1061, Val Acc: 0.6741\n",
            "Epoch [24/50], Train Loss: 1.2348, Train Acc: 0.4993, Val Loss: 1.1007, Val Acc: 0.6708\n",
            "Epoch [25/50], Train Loss: 1.2368, Train Acc: 0.4942, Val Loss: 1.0965, Val Acc: 0.6975\n",
            "Epoch [26/50], Train Loss: 1.2388, Train Acc: 0.4926, Val Loss: 1.0918, Val Acc: 0.6886\n",
            "Epoch [27/50], Train Loss: 1.2421, Train Acc: 0.4869, Val Loss: 1.0916, Val Acc: 0.6819\n",
            "Epoch [28/50], Train Loss: 1.2385, Train Acc: 0.4914, Val Loss: 1.0919, Val Acc: 0.6886\n",
            "Epoch [29/50], Train Loss: 1.2348, Train Acc: 0.4967, Val Loss: 1.0902, Val Acc: 0.6819\n",
            "Epoch [30/50], Train Loss: 1.2311, Train Acc: 0.5046, Val Loss: 1.0783, Val Acc: 0.7065\n",
            "Epoch [31/50], Train Loss: 1.2287, Train Acc: 0.5074, Val Loss: 1.0742, Val Acc: 0.7121\n",
            "Epoch [32/50], Train Loss: 1.2329, Train Acc: 0.5005, Val Loss: 1.0742, Val Acc: 0.7065\n",
            "Epoch [33/50], Train Loss: 1.2300, Train Acc: 0.5033, Val Loss: 1.0765, Val Acc: 0.7098\n",
            "Epoch [34/50], Train Loss: 1.2260, Train Acc: 0.5135, Val Loss: 1.0729, Val Acc: 0.7176\n",
            "Epoch [35/50], Train Loss: 1.2185, Train Acc: 0.5163, Val Loss: 1.0746, Val Acc: 0.6998\n",
            "Epoch [36/50], Train Loss: 1.2174, Train Acc: 0.5174, Val Loss: 1.0725, Val Acc: 0.6953\n",
            "Epoch [37/50], Train Loss: 1.2245, Train Acc: 0.5117, Val Loss: 1.0648, Val Acc: 0.7031\n",
            "Epoch [38/50], Train Loss: 1.2312, Train Acc: 0.4975, Val Loss: 1.0621, Val Acc: 0.7266\n",
            "Epoch [39/50], Train Loss: 1.2173, Train Acc: 0.5174, Val Loss: 1.0687, Val Acc: 0.7232\n",
            "Epoch [40/50], Train Loss: 1.2168, Train Acc: 0.5153, Val Loss: 1.0522, Val Acc: 0.7366\n",
            "Epoch [41/50], Train Loss: 1.2161, Train Acc: 0.5206, Val Loss: 1.0591, Val Acc: 0.7232\n",
            "Epoch [42/50], Train Loss: 1.2205, Train Acc: 0.5109, Val Loss: 1.0532, Val Acc: 0.7254\n",
            "Epoch [43/50], Train Loss: 1.2136, Train Acc: 0.5228, Val Loss: 1.0693, Val Acc: 0.6964\n",
            "Epoch [44/50], Train Loss: 1.2162, Train Acc: 0.5176, Val Loss: 1.0502, Val Acc: 0.7377\n",
            "Epoch [45/50], Train Loss: 1.2068, Train Acc: 0.5308, Val Loss: 1.0506, Val Acc: 0.7355\n",
            "Epoch [46/50], Train Loss: 1.2146, Train Acc: 0.5218, Val Loss: 1.0478, Val Acc: 0.7422\n",
            "Epoch [47/50], Train Loss: 1.2070, Train Acc: 0.5253, Val Loss: 1.0516, Val Acc: 0.7310\n",
            "Epoch [48/50], Train Loss: 1.2149, Train Acc: 0.5182, Val Loss: 1.0483, Val Acc: 0.7400\n",
            "Epoch [49/50], Train Loss: 1.2078, Train Acc: 0.5291, Val Loss: 1.0519, Val Acc: 0.7165\n",
            "Epoch [50/50], Train Loss: 1.1984, Train Acc: 0.5413, Val Loss: 1.0530, Val Acc: 0.7121\n"
          ]
        }
      ],
      "source": [
        "# Train the model\n",
        "# train_loss_history, val_loss_history, train_acc_history, val_acc_history = train(\n",
        "#     model, criterion, optimizer, train_loader, val_loader, epochs)"
      ]
    },
    {
      "cell_type": "code",
      "execution_count": 43,
      "metadata": {},
      "outputs": [],
      "source": [
        "torch.save(model,'models\\\\brain_tumor_segmentation.pt')"
      ]
    },
    {
      "cell_type": "code",
      "execution_count": 44,
      "metadata": {
        "id": "bySNSZnY4nBx"
      },
      "outputs": [
        {
          "data": {
            "image/png": "[encoded data removed]",
            "text/plain": [
              "<Figure size 1200x500 with 2 Axes>"
            ]
          },
          "metadata": {},
          "output_type": "display_data"
        }
      ],
      "source": [
        "# Plotting the training and validation loss and accuracy\n",
        "plt.figure(figsize=(12, 5))\n",
        "plt.subplot(1, 2, 1)\n",
        "# Move the loss history to CPU and convert to NumPy arrays before plotting\n",
        "plt.plot(np.array([t.cpu() if hasattr(t, 'cpu') else t for t in train_loss_history]), label='Train Loss')\n",
        "plt.plot(np.array([t.cpu() if hasattr(t, 'cpu') else t for t in val_loss_history]), label='Val Loss')\n",
        "plt.xlabel('Epochs')\n",
        "plt.ylabel('Loss')\n",
        "plt.legend()\n",
        "\n",
        "plt.subplot(1, 2, 2)\n",
        "# Move the accuracy history to CPU and convert to NumPy arrays before plotting\n",
        "plt.plot(np.array([t.cpu() if hasattr(t, 'cpu') else t for t in train_acc_history]), label='Train Acc')\n",
        "plt.plot(np.array([t.cpu() if hasattr(t, 'cpu') else t for t in val_acc_history]), label='Val Acc')\n",
        "plt.xlabel('Epochs')\n",
        "plt.ylabel('Accuracy')\n",
        "plt.legend()\n",
        "\n",
        "plt.show()"
      ]
    },
    {
      "cell_type": "markdown",
      "metadata": {
        "id": "Zu3blvxW7vzZ"
      },
      "source": [
        "# Classification report"
      ]
    },
    {
      "cell_type": "code",
      "execution_count": null,
      "metadata": {},
      "outputs": [],
      "source": []
    },
    {
      "cell_type": "code",
      "execution_count": 46,
      "metadata": {
        "id": "qrV_twac4wzp"
      },
      "outputs": [
        {
          "name": "stdout",
          "output_type": "stream",
          "text": [
            "              precision    recall  f1-score   support\n",
            "\n",
            "         0.0       0.50      0.79      0.61       197\n",
            "         1.0       0.67      0.37      0.47       271\n",
            "         2.0       0.91      0.85      0.88       321\n",
            "         3.0       0.73      0.81      0.77       265\n",
            "\n",
            "    accuracy                           0.70      1054\n",
            "   macro avg       0.70      0.70      0.68      1054\n",
            "weighted avg       0.73      0.70      0.70      1054\n",
            "\n"
          ]
        }
      ],
      "source": [
        "# prompt: predict on the x_test dataset and create a classification using sklearn where Trure label are y_test\n",
        "\n",
        "# Move the model to CPU\n",
        "model.cpu()\n",
        "\n",
        "X_test = torch.permute(X_test, (0, 3, 1, 2))\n",
        "# Make predictions on the test set\n",
        "y_pred = model(X_test.cpu())\n",
        "\n",
        "# Convert the predictions to class labels\n",
        "y_pred_classes = torch.argmax(y_pred, dim=1)\n",
        "\n",
        "# Import necessary libraries\n",
        "\n",
        "\n",
        "# Create a classification report\n",
        "report = classification_report(y_test, y_pred_classes)\n",
        "\n",
        "# Print the classification report\n",
        "print(report)\n"
      ]
    },
    {
      "cell_type": "markdown",
      "metadata": {
        "id": "8w4Ra35W7y_a"
      },
      "source": [
        "Confusion matrix"
      ]
    },
    {
      "cell_type": "code",
      "execution_count": 49,
      "metadata": {
        "id": "sW2cyUAe70kp"
      },
      "outputs": [
        {
          "data": {
            "image/png": "[encoded data removed]",
            "text/plain": [
              "<Figure size 640x480 with 2 Axes>"
            ]
          },
          "metadata": {},
          "output_type": "display_data"
        },
        {
          "name": "stdout",
          "output_type": "stream",
          "text": [
            "[[155  35   0   7]\n",
            " [104  99  21  47]\n",
            " [ 14   8 273  26]\n",
            " [ 38   6   6 215]]\n"
          ]
        }
      ],
      "source": [
        "prompt: create a confusion matrix using prediction from the model on the X_test and ture label y_test\n",
        "\n",
        "from sklearn.metrics import confusion_matrix\n",
        "\n",
        "# Make predictions on the test set\n",
        "y_pred = model(X_test.cpu())\n",
        "\n",
        "# Convert the predictions to class labels\n",
        "y_pred_classes = torch.argmax(y_pred, dim=1)\n",
        "\n",
        "# Create a confusion matrix\n",
        "cm = confusion_matrix(y_test, y_pred_classes)\n",
        "ConfusionMatrixDisplay(cm).plot()\n",
        "plt.show()\n",
        "\n",
        "# Print the confusion matrix\n",
        "print(cm)\n"
      ]
    }
  ],
  "metadata": {
    "accelerator": "GPU",
    "colab": {
      "gpuType": "T4",
      "provenance": []
    },
    "kaggle": {
      "accelerator": "nvidiaTeslaT4",
      "dataSources": [
        {
          "datasetId": 1608934,
          "sourceId": 2645886,
          "sourceType": "datasetVersion"
        }
      ],
      "isGpuEnabled": true,
      "isInternetEnabled": false,
      "language": "python",
      "sourceType": "notebook"
    },
    "kernelspec": {
      "display_name": "Python 3",
      "name": "python3"
    },
    "language_info": {
      "codemirror_mode": {
        "name": "ipython",
        "version": 3
      },
      "file_extension": ".py",
      "mimetype": "text/x-python",
      "name": "python",
      "nbconvert_exporter": "python",
      "pygments_lexer": "ipython3",
      "version": "3.10.11"
    }
  },
  "nbformat": 4,
  "nbformat_minor": 0
}
