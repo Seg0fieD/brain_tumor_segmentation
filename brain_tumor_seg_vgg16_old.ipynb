{
  "cells": [
    {
      "cell_type": "markdown",
      "metadata": {
        "id": "4MWFFJRufQZT"
      },
      "source": [
        "### Import"
      ]
    },
    {
      "cell_type": "code",
      "execution_count": 1,
      "metadata": {
        "colab": {
          "base_uri": "https://localhost:8080/"
        },
        "id": "51Vic5AMfUPa",
        "outputId": "1ea853dd-e73e-4dea-8274-4f1f247e18c1"
      },
      "outputs": [],
      "source": [
        "# # prompt: mount drive\n",
        "\n",
        "# from google.colab import drive\n",
        "# drive.mount('/content/drive')\n"
      ]
    },
    {
      "cell_type": "code",
      "execution_count": 2,
      "metadata": {
        "colab": {
          "base_uri": "https://localhost:8080/"
        },
        "id": "w0FNdXu5ftlg",
        "outputId": "3c3039d9-6d2d-4577-e5e1-2e4443e43755"
      },
      "outputs": [],
      "source": [
        "#%cd '/content/drive/MyDrive/Colab_Notebooks/ML/image_seg/'"
      ]
    },
    {
      "cell_type": "code",
      "execution_count": 1,
      "metadata": {
        "id": "Z-w8hbJlhJOa"
      },
      "outputs": [],
      "source": [
        "import os\n",
        "import io\n",
        "import numpy as np\n",
        "import pandas as pd\n",
        "import matplotlib.pyplot as plt\n",
        "from sklearn.metrics import accuracy_score\n",
        "from sklearn.model_selection import train_test_split\n",
        "from sklearn.utils import shuffle\n",
        "from sklearn.metrics import classification_report, confusion_matrix, ConfusionMatrixDisplay\n",
        "import ipywidgets #externally create label\n",
        "from PIL import Image\n",
        "import tqdm\n",
        "import cv2\n",
        "\n",
        "import torch\n",
        "import torch.nn as nn\n",
        "import torch.nn.functional as F\n",
        "from torch.utils.data import random_split, DataLoader, Dataset, TensorDataset\n",
        "from torchsummary import summary\n",
        "import torchvision.transforms as transforms\n",
        "\n",
        "from torchvision.transforms import v2\n",
        "\n"
      ]
    },
    {
      "cell_type": "code",
      "execution_count": 2,
      "metadata": {
        "colab": {
          "base_uri": "https://localhost:8080/"
        },
        "id": "3y_6Jx0yfQZX",
        "outputId": "b3af3e23-41fe-4360-ddf1-f4ce6080a445"
      },
      "outputs": [
        {
          "name": "stdout",
          "output_type": "stream",
          "text": [
            "Using cuda device\n"
          ]
        }
      ],
      "source": [
        "device = (\n",
        "    'cuda'\n",
        "    if torch.cuda.is_available()\n",
        "    else 'cpu'\n",
        ")\n",
        "\n",
        "print(f\"Using {device} device\")"
      ]
    },
    {
      "cell_type": "markdown",
      "metadata": {
        "id": "Rq8NBjVHhJOb"
      },
      "source": [
        "## Data extraction and shuffling"
      ]
    },
    {
      "cell_type": "code",
      "execution_count": 3,
      "metadata": {
        "id": "NhqjMMi7PuSr"
      },
      "outputs": [],
      "source": [
        "image_size = 150 #scaling a constant image size\n",
        "labels = ['glioma', 'meningioma', 'notumor', 'pituitary']"
      ]
    },
    {
      "cell_type": "code",
      "execution_count": 4,
      "metadata": {
        "id": "qd1TLKm5j71X"
      },
      "outputs": [],
      "source": [
        "label_idx = {\n",
        "    'glioma': 0,\n",
        "    'meningioma': 1,\n",
        "    'notumor': 2,\n",
        "    'pituitary': 3\n",
        "}"
      ]
    },
    {
      "cell_type": "code",
      "execution_count": 5,
      "metadata": {
        "id": "F280PeBShJOd"
      },
      "outputs": [],
      "source": [
        "\n",
        "X = []\n",
        "y = []\n",
        "\n",
        "for i in labels:\n",
        "    folderPath = os.path.join('data\\Training', i)                                   #each iteration in training folder #\"projects\\proj2\\data\\Training\"\n",
        "    for j in os.listdir(folderPath):                                               # read the images in the dir\n",
        "        img = cv2.imread(os.path.join(folderPath, j))\n",
        "        if img is not None:\n",
        "            img = cv2.resize(img,(image_size, image_size))                                        # resale the image\n",
        "            X.append(img)\n",
        "            y.append(label_idx[i])                                                          # the ith label will the y\n",
        "\n",
        "for i in labels:\n",
        "    folderPath = os.path.join('data\\Testing', i)\n",
        "    for j in os.listdir(folderPath):\n",
        "        img = cv2.imread(os.path.join(folderPath, j))\n",
        "        if img is not None:\n",
        "            img = cv2.resize(img,(image_size, image_size))\n",
        "            X.append(img)\n",
        "            y.append(label_idx[i])\n",
        "                                                                # all test and train data are put into X and y train, then they will be shuffeled\n",
        "\n",
        "\n",
        "X = np.array(X, dtype = np.float32)\n",
        "y = np.array(y, dtype = np.float32)\n",
        "\n"
      ]
    },
    {
      "cell_type": "code",
      "execution_count": 6,
      "metadata": {
        "id": "c2HG7yH9fQZZ"
      },
      "outputs": [],
      "source": [
        "X = torch.from_numpy(X)\n",
        "y = torch.from_numpy(y)"
      ]
    },
    {
      "cell_type": "markdown",
      "metadata": {
        "id": "muTnFwj7hJOf"
      },
      "source": [
        "## Train Test Split"
      ]
    },
    {
      "cell_type": "code",
      "execution_count": 7,
      "metadata": {
        "colab": {
          "base_uri": "https://localhost:8080/"
        },
        "id": "-gls9IgxhJOU",
        "outputId": "a25b4270-cde7-4d15-fc60-db0bd3628ce5"
      },
      "outputs": [
        {
          "data": {
            "text/plain": [
              "(torch.Size([7023, 150, 150, 3]), torch.Size([7023]))"
            ]
          },
          "execution_count": 7,
          "metadata": {},
          "output_type": "execute_result"
        }
      ],
      "source": [
        "X.shape, y.shape"
      ]
    },
    {
      "cell_type": "code",
      "execution_count": 8,
      "metadata": {
        "id": "JFWpuPuihJOf"
      },
      "outputs": [],
      "source": [
        "# split whole dataset into training and test set\n",
        "X_train_temp, X_test, y_train_temp, y_test = train_test_split(X, y, test_size = 0.15, random_state = 107, shuffle = True)\n",
        "\n",
        "# split training into train and validation set\n",
        "X_train, X_val, y_train, y_val = train_test_split(X_train_temp, y_train_temp, test_size = 0.15, random_state = 42, shuffle = True)"
      ]
    },
    {
      "cell_type": "code",
      "execution_count": 9,
      "metadata": {
        "colab": {
          "base_uri": "https://localhost:8080/",
          "height": 1000
        },
        "id": "Ir9L7STD68vB",
        "outputId": "f107eef9-ac9e-455b-84fa-e5c7b774d92e"
      },
      "outputs": [],
      "source": [
        "# prompt: plot a histogram plot of y_test, y_val, y_train separately\n",
        "\n",
        "\n",
        "\n",
        "# # Plot histogram for y_test\n",
        "# plt.hist(y_test, bins=4)\n",
        "# plt.title(\"Histogram of y_test\")\n",
        "# plt.show()\n",
        "\n",
        "# # Plot histogram for y_val\n",
        "# plt.hist(y_val, bins=4)\n",
        "# plt.title(\"Histogram of y_val\")\n",
        "# plt.show()\n",
        "\n",
        "# # Plot histogram for y_train\n",
        "# plt.hist(y_train, bins=4)\n",
        "# plt.title(\"Histogram of y_train\")\n",
        "# plt.show()\n"
      ]
    },
    {
      "cell_type": "markdown",
      "metadata": {
        "id": "IrmiMhVpfQZb"
      },
      "source": [
        "# Augmentation"
      ]
    },
    {
      "cell_type": "code",
      "execution_count": 10,
      "metadata": {
        "id": "p2yMWooSfQZb"
      },
      "outputs": [],
      "source": [
        "class AugmentedDataset(Dataset):\n",
        "    def __init__(self, images, labels, transform=None):\n",
        "        self.images = images\n",
        "        self.labels = labels\n",
        "        self.transform = transform\n",
        "\n",
        "    def __len__(self):\n",
        "        return len(self.images)\n",
        "\n",
        "    def __getitem__(self, idx):\n",
        "        image = self.images[idx]\n",
        "        label = self.labels[idx]\n",
        "        label = torch.as_tensor(label, dtype=torch.long)\n",
        "        image = torch.permute(image, (2, 0, 1))\n",
        "        if self.transform:\n",
        "\n",
        "            image = self.transform(image)\n",
        "\n",
        "        return image, label\n",
        "\n",
        "# Define data augmentations\n",
        "transform = transforms.Compose([\n",
        "    #transforms.ToPILImage(),\n",
        "    transforms.RandomHorizontalFlip(),\n",
        "    transforms.RandomRotation(10),\n",
        "    transforms.RandomResizedCrop(150)\n",
        "])\n",
        "\n",
        "\n",
        "\n",
        "# Prepare datasets with augmentations\n",
        "train_dataset = AugmentedDataset(X_train, y_train, transform=transform)\n",
        "val_dataset = AugmentedDataset(X_val, y_val)  # No augmentations for validation\n",
        "test_dataset = AugmentedDataset(X_test, y_test) #, transform=transforms.ToTensor())  # No augmentations for test\n",
        "\n"
      ]
    },
    {
      "cell_type": "markdown",
      "metadata": {
        "id": "Y_U89eQKfQZc"
      },
      "source": [
        "# Train loop"
      ]
    },
    {
      "cell_type": "code",
      "execution_count": 11,
      "metadata": {
        "id": "89Fv1TrmfQZc"
      },
      "outputs": [],
      "source": [
        "# Training function\n",
        "def train(model, criterion, optimizer, train_loader, val_loader, epochs):\n",
        "    train_loss_history = []\n",
        "    val_loss_history = []\n",
        "    train_acc_history = []\n",
        "    val_acc_history = []\n",
        "\n",
        "    for epoch in range(epochs):\n",
        "        model.train()\n",
        "        running_loss = 0.0\n",
        "        correct = 0\n",
        "        total = 0\n",
        "        batch = 0\n",
        "\n",
        "        for image, label in train_loader:\n",
        "            image = image.to(device)  # Move image to device and convert to float\n",
        "            label = label.to(device)\n",
        "            outputs = model(image)\n",
        "\n",
        "            loss = criterion(outputs, label)\n",
        "            optimizer.zero_grad()\n",
        "            loss.backward()\n",
        "            optimizer.step()\n",
        "\n",
        "            running_loss += loss.item()\n",
        "            #_, predicted = torch.max(outputs.data, 1)\n",
        "            #total += label.size(0)\n",
        "            #correct += (predicted == label).sum().item()\n",
        "            # print(f\"Batch no. : {batch}\")\n",
        "            # batch = batch + 1\n",
        "\n",
        "            outputs_label = torch.argmax(outputs , dim = 1)\n",
        "            correct += torch.sum(outputs_label == label)\n",
        "            total += label.size(0)\n",
        "\n",
        "        train_loss = running_loss / len(train_loader)\n",
        "        train_acc = correct / total\n",
        "        train_loss_history.append(train_loss)\n",
        "        train_acc_history.append(train_acc)\n",
        "\n",
        "        # Validation\n",
        "        model.eval()\n",
        "        val_loss = 0.0\n",
        "        correct = 0\n",
        "        total = 0\n",
        "\n",
        "        with torch.no_grad():\n",
        "            for image, label in val_loader:\n",
        "                image = image.to(device)\n",
        "                label = label.to(device)\n",
        "                outputs = model(image)\n",
        "                #output_label = torch.argmax(outputs, dim = 1)\n",
        "                loss = criterion(outputs, label)\n",
        "                val_loss += loss.item()\n",
        "                _, predicted = torch.max(outputs.data, 1)\n",
        "                total += label.size(0)\n",
        "                correct += (predicted == label).sum().item()\n",
        "\n",
        "        val_loss = val_loss / len(val_loader)\n",
        "        val_acc = correct / total\n",
        "        val_loss_history.append(val_loss)\n",
        "        val_acc_history.append(val_acc)\n",
        "\n",
        "        print(f'Epoch [{epoch + 1}/{epochs}], Train Loss: {train_loss:.4f}, Train Acc: {train_acc:.4f}, Val Loss: {val_loss:.4f}, Val Acc: {val_acc:.4f}')\n",
        "\n",
        "    return train_loss_history, val_loss_history, train_acc_history, val_acc_history"
      ]
    },
    {
      "cell_type": "markdown",
      "metadata": {},
      "source": [
        "# VGG-16 Model Architecture"
      ]
    },
    {
      "cell_type": "code",
      "execution_count": 12,
      "metadata": {
        "id": "IjQf072x8gYn"
      },
      "outputs": [],
      "source": [
        "class VGG16(nn.Module):\n",
        "    def __init__(self, num_classes=4):  \n",
        "        super(VGG16, self).__init__()\n",
        "        \n",
        "        self.features = nn.Sequential(\n",
        "            # Conv Block 1\n",
        "            nn.Conv2d(3, 64, kernel_size=3, padding=1),\n",
        "            nn.ReLU(inplace=True),\n",
        "            nn.Conv2d(64, 64, kernel_size=3, padding=1),\n",
        "            nn.ReLU(inplace=True),\n",
        "            nn.MaxPool2d(kernel_size=2, stride=2),\n",
        "            \n",
        "            # Conv Block 2\n",
        "            nn.Conv2d(64, 128, kernel_size=3, padding=1),\n",
        "            nn.ReLU(inplace=True),\n",
        "            nn.Conv2d(128, 128, kernel_size=3, padding=1),\n",
        "            nn.ReLU(inplace=True),\n",
        "            nn.MaxPool2d(kernel_size=2, stride=2),\n",
        "            \n",
        "            # Conv Block 3\n",
        "            nn.Conv2d(128, 256, kernel_size=3, padding=1),\n",
        "            nn.ReLU(inplace=True),\n",
        "            nn.Conv2d(256, 256, kernel_size=3, padding=1),\n",
        "            nn.ReLU(inplace=True),\n",
        "            nn.Conv2d(256, 256, kernel_size=3, padding=1),\n",
        "            nn.ReLU(inplace=True),\n",
        "            nn.MaxPool2d(kernel_size=2, stride=2),\n",
        "            \n",
        "            # Conv Block 4\n",
        "            nn.Conv2d(256, 512, kernel_size=3, padding=1),\n",
        "            nn.ReLU(inplace=True),\n",
        "            nn.Conv2d(512, 512, kernel_size=3, padding=1),\n",
        "            nn.ReLU(inplace=True),\n",
        "            nn.Conv2d(512, 512, kernel_size=3, padding=1),\n",
        "            nn.ReLU(inplace=True),\n",
        "            nn.MaxPool2d(kernel_size=2, stride=2),\n",
        "            \n",
        "            # Conv Block 5\n",
        "            nn.Conv2d(512, 512, kernel_size=3, padding=1),\n",
        "            nn.ReLU(inplace=True),\n",
        "            nn.Conv2d(512, 512, kernel_size=3, padding=1),\n",
        "            nn.ReLU(inplace=True),\n",
        "            nn.Conv2d(512, 512, kernel_size=3, padding=1),\n",
        "            nn.ReLU(inplace=True),\n",
        "            nn.MaxPool2d(kernel_size=2, stride=2),\n",
        "        )\n",
        "        \n",
        "        self.classifier = nn.Sequential(\n",
        "            nn.Linear(512 * 4 * 4, 4096),  # Adjusted input size to 512*4*4\n",
        "            nn.ReLU(inplace=True),\n",
        "            nn.Dropout(),\n",
        "            nn.Linear(4096, 4096),\n",
        "            nn.ReLU(inplace=True),\n",
        "            nn.Dropout(),\n",
        "            nn.Linear(4096, num_classes),\n",
        "        )\n",
        "        \n",
        "    def forward(self, x):\n",
        "        x = self.features(x)\n",
        "        x = x.reshape(x.size(0), -1)\n",
        "        x = self.classifier(x)\n",
        "        return x\n"
      ]
    },
    {
      "cell_type": "code",
      "execution_count": 13,
      "metadata": {},
      "outputs": [
        {
          "name": "stdout",
          "output_type": "stream",
          "text": [
            "VGG16(\n",
            "  (features): Sequential(\n",
            "    (0): Conv2d(3, 64, kernel_size=(3, 3), stride=(1, 1), padding=(1, 1))\n",
            "    (1): ReLU(inplace=True)\n",
            "    (2): Conv2d(64, 64, kernel_size=(3, 3), stride=(1, 1), padding=(1, 1))\n",
            "    (3): ReLU(inplace=True)\n",
            "    (4): MaxPool2d(kernel_size=2, stride=2, padding=0, dilation=1, ceil_mode=False)\n",
            "    (5): Conv2d(64, 128, kernel_size=(3, 3), stride=(1, 1), padding=(1, 1))\n",
            "    (6): ReLU(inplace=True)\n",
            "    (7): Conv2d(128, 128, kernel_size=(3, 3), stride=(1, 1), padding=(1, 1))\n",
            "    (8): ReLU(inplace=True)\n",
            "    (9): MaxPool2d(kernel_size=2, stride=2, padding=0, dilation=1, ceil_mode=False)\n",
            "    (10): Conv2d(128, 256, kernel_size=(3, 3), stride=(1, 1), padding=(1, 1))\n",
            "    (11): ReLU(inplace=True)\n",
            "    (12): Conv2d(256, 256, kernel_size=(3, 3), stride=(1, 1), padding=(1, 1))\n",
            "    (13): ReLU(inplace=True)\n",
            "    (14): Conv2d(256, 256, kernel_size=(3, 3), stride=(1, 1), padding=(1, 1))\n",
            "    (15): ReLU(inplace=True)\n",
            "    (16): MaxPool2d(kernel_size=2, stride=2, padding=0, dilation=1, ceil_mode=False)\n",
            "    (17): Conv2d(256, 512, kernel_size=(3, 3), stride=(1, 1), padding=(1, 1))\n",
            "    (18): ReLU(inplace=True)\n",
            "    (19): Conv2d(512, 512, kernel_size=(3, 3), stride=(1, 1), padding=(1, 1))\n",
            "    (20): ReLU(inplace=True)\n",
            "    (21): Conv2d(512, 512, kernel_size=(3, 3), stride=(1, 1), padding=(1, 1))\n",
            "    (22): ReLU(inplace=True)\n",
            "    (23): MaxPool2d(kernel_size=2, stride=2, padding=0, dilation=1, ceil_mode=False)\n",
            "    (24): Conv2d(512, 512, kernel_size=(3, 3), stride=(1, 1), padding=(1, 1))\n",
            "    (25): ReLU(inplace=True)\n",
            "    (26): Conv2d(512, 512, kernel_size=(3, 3), stride=(1, 1), padding=(1, 1))\n",
            "    (27): ReLU(inplace=True)\n",
            "    (28): Conv2d(512, 512, kernel_size=(3, 3), stride=(1, 1), padding=(1, 1))\n",
            "    (29): ReLU(inplace=True)\n",
            "    (30): MaxPool2d(kernel_size=2, stride=2, padding=0, dilation=1, ceil_mode=False)\n",
            "  )\n",
            "  (classifier): Sequential(\n",
            "    (0): Linear(in_features=8192, out_features=4096, bias=True)\n",
            "    (1): ReLU(inplace=True)\n",
            "    (2): Dropout(p=0.5, inplace=False)\n",
            "    (3): Linear(in_features=4096, out_features=4096, bias=True)\n",
            "    (4): ReLU(inplace=True)\n",
            "    (5): Dropout(p=0.5, inplace=False)\n",
            "    (6): Linear(in_features=4096, out_features=4, bias=True)\n",
            "  )\n",
            ")\n"
          ]
        }
      ],
      "source": [
        "model_vgg16 = VGG16(num_classes=4)\n",
        "print(model_vgg16)\n",
        "\n"
      ]
    },
    {
      "cell_type": "markdown",
      "metadata": {
        "id": "X9Y0pM8ffQZc"
      },
      "source": [
        "# parameters arguments"
      ]
    },
    {
      "cell_type": "code",
      "execution_count": 14,
      "metadata": {
        "id": "ZWkw62inhJOj"
      },
      "outputs": [],
      "source": [
        "\n",
        "# initialize model\n",
        "model_vgg16 = VGG16(num_classes=4)\n",
        "device = torch.device(\"cuda\" if torch.cuda.is_available() else \"cpu\")\n",
        "model_vgg16.to(device)\n",
        "\n",
        "# loss funtion\n",
        "criterion = nn.CrossEntropyLoss()\n",
        "\n",
        "# optimizer\n",
        "optimizer = torch.optim.Adam(model_vgg16.parameters(), lr  = 1e-6)\n",
        "\n",
        "# epoch\n",
        "epochs  = 50\n",
        "\n",
        "#batch size\n",
        "batch_size = 100\n",
        "\n",
        "# threads\n",
        "num_workers = 4"
      ]
    },
    {
      "cell_type": "code",
      "execution_count": 15,
      "metadata": {
        "id": "QfkT-kzwfQZc"
      },
      "outputs": [],
      "source": [
        "train_loader = DataLoader(train_dataset, batch_size=batch_size, shuffle=True)#, num_workers=num_workers, pin_memory=True)\n",
        "val_loader = DataLoader(val_dataset, batch_size=batch_size, shuffle=True)#, num_workers=num_workers, pin_memory=True)\n",
        "\n",
        "# train_loader = train_loader.to(device)\n",
        "# val_loader = val_loader.to(device)"
      ]
    },
    {
      "cell_type": "code",
      "execution_count": 16,
      "metadata": {
        "colab": {
          "base_uri": "https://localhost:8080/"
        },
        "id": "y4bVFP0NfQZc",
        "outputId": "ac974723-149f-49d2-fa29-cde497917015"
      },
      "outputs": [
        {
          "name": "stdout",
          "output_type": "stream",
          "text": [
            "Model is on cuda:0\n"
          ]
        }
      ],
      "source": [
        "device = next(model_vgg16.parameters()).device\n",
        "print(f\"Model is on {device}\")"
      ]
    },
    {
      "cell_type": "markdown",
      "metadata": {
        "id": "1fUIyQZYfQZd"
      },
      "source": [
        "# VGG-16 Model Training"
      ]
    },
    {
      "cell_type": "code",
      "execution_count": 42,
      "metadata": {},
      "outputs": [
        {
          "name": "stdout",
          "output_type": "stream",
          "text": [
            "Epoch [1/50], Train Loss: 1.3856, Train Acc: 0.2797, Val Loss: 1.3854, Val Acc: 0.2902\n",
            "Epoch [2/50], Train Loss: 1.3849, Train Acc: 0.2801, Val Loss: 1.3836, Val Acc: 0.2902\n",
            "Epoch [3/50], Train Loss: 1.3809, Train Acc: 0.2797, Val Loss: 1.3682, Val Acc: 0.2902\n",
            "Epoch [4/50], Train Loss: 1.3626, Train Acc: 0.2797, Val Loss: 1.3448, Val Acc: 0.2902\n",
            "Epoch [5/50], Train Loss: 1.3565, Train Acc: 0.2797, Val Loss: 1.3397, Val Acc: 0.2902\n",
            "Epoch [6/50], Train Loss: 1.3534, Train Acc: 0.2797, Val Loss: 1.3361, Val Acc: 0.2902\n",
            "Epoch [7/50], Train Loss: 1.3509, Train Acc: 0.2797, Val Loss: 1.3299, Val Acc: 0.2902\n",
            "Epoch [8/50], Train Loss: 1.3463, Train Acc: 0.2797, Val Loss: 1.3250, Val Acc: 0.2902\n",
            "Epoch [9/50], Train Loss: 1.3398, Train Acc: 0.2801, Val Loss: 1.3107, Val Acc: 0.2902\n",
            "Epoch [10/50], Train Loss: 1.3327, Train Acc: 0.2793, Val Loss: 1.2925, Val Acc: 0.2902\n",
            "Epoch [11/50], Train Loss: 1.3212, Train Acc: 0.2825, Val Loss: 1.2694, Val Acc: 0.2902\n",
            "Epoch [12/50], Train Loss: 1.3059, Train Acc: 0.3049, Val Loss: 1.2388, Val Acc: 0.4688\n",
            "Epoch [13/50], Train Loss: 1.2693, Train Acc: 0.3574, Val Loss: 1.1855, Val Acc: 0.4654\n",
            "Epoch [14/50], Train Loss: 1.2180, Train Acc: 0.3956, Val Loss: 1.0965, Val Acc: 0.4699\n",
            "Epoch [15/50], Train Loss: 1.1718, Train Acc: 0.4374, Val Loss: 1.0647, Val Acc: 0.4565\n",
            "Epoch [16/50], Train Loss: 1.1727, Train Acc: 0.4532, Val Loss: 1.0521, Val Acc: 0.4676\n",
            "Epoch [17/50], Train Loss: 1.1461, Train Acc: 0.4713, Val Loss: 1.0194, Val Acc: 0.4844\n",
            "Epoch [18/50], Train Loss: 1.1479, Train Acc: 0.4747, Val Loss: 1.0541, Val Acc: 0.4710\n",
            "Epoch [19/50], Train Loss: 1.1251, Train Acc: 0.4877, Val Loss: 0.9952, Val Acc: 0.4955\n",
            "Epoch [20/50], Train Loss: 1.1260, Train Acc: 0.4962, Val Loss: 1.0697, Val Acc: 0.4721\n",
            "Epoch [21/50], Train Loss: 1.1131, Train Acc: 0.4977, Val Loss: 1.0337, Val Acc: 0.4743\n",
            "Epoch [22/50], Train Loss: 1.1013, Train Acc: 0.5005, Val Loss: 0.9647, Val Acc: 0.5301\n",
            "Epoch [23/50], Train Loss: 1.0930, Train Acc: 0.5202, Val Loss: 1.0023, Val Acc: 0.4877\n",
            "Epoch [24/50], Train Loss: 1.0905, Train Acc: 0.5149, Val Loss: 0.9704, Val Acc: 0.5223\n",
            "Epoch [25/50], Train Loss: 1.0801, Train Acc: 0.5220, Val Loss: 0.9538, Val Acc: 0.5402\n",
            "Epoch [26/50], Train Loss: 1.0837, Train Acc: 0.5182, Val Loss: 0.9433, Val Acc: 0.5513\n",
            "Epoch [27/50], Train Loss: 1.0765, Train Acc: 0.5340, Val Loss: 0.9560, Val Acc: 0.5346\n",
            "Epoch [28/50], Train Loss: 1.0690, Train Acc: 0.5381, Val Loss: 0.9814, Val Acc: 0.5257\n",
            "Epoch [29/50], Train Loss: 1.0588, Train Acc: 0.5450, Val Loss: 0.9406, Val Acc: 0.5558\n",
            "Epoch [30/50], Train Loss: 1.0443, Train Acc: 0.5512, Val Loss: 0.9507, Val Acc: 0.5547\n",
            "Epoch [31/50], Train Loss: 1.0578, Train Acc: 0.5445, Val Loss: 0.9542, Val Acc: 0.5569\n",
            "Epoch [32/50], Train Loss: 1.0321, Train Acc: 0.5573, Val Loss: 0.9830, Val Acc: 0.5335\n",
            "Epoch [33/50], Train Loss: 1.0296, Train Acc: 0.5569, Val Loss: 0.9888, Val Acc: 0.5324\n",
            "Epoch [34/50], Train Loss: 1.0312, Train Acc: 0.5555, Val Loss: 0.9030, Val Acc: 0.5915\n",
            "Epoch [35/50], Train Loss: 1.0248, Train Acc: 0.5689, Val Loss: 0.9059, Val Acc: 0.5915\n",
            "Epoch [36/50], Train Loss: 1.0214, Train Acc: 0.5709, Val Loss: 1.0219, Val Acc: 0.5335\n",
            "Epoch [37/50], Train Loss: 1.0163, Train Acc: 0.5661, Val Loss: 0.8948, Val Acc: 0.5938\n",
            "Epoch [38/50], Train Loss: 1.0027, Train Acc: 0.5843, Val Loss: 0.9774, Val Acc: 0.5547\n",
            "Epoch [39/50], Train Loss: 0.9922, Train Acc: 0.5807, Val Loss: 0.9526, Val Acc: 0.5826\n",
            "Epoch [40/50], Train Loss: 0.9989, Train Acc: 0.5770, Val Loss: 0.9889, Val Acc: 0.5580\n",
            "Epoch [41/50], Train Loss: 0.9900, Train Acc: 0.5843, Val Loss: 0.9267, Val Acc: 0.5781\n",
            "Epoch [42/50], Train Loss: 1.0015, Train Acc: 0.5778, Val Loss: 0.9930, Val Acc: 0.5525\n",
            "Epoch [43/50], Train Loss: 0.9884, Train Acc: 0.5853, Val Loss: 1.0022, Val Acc: 0.5491\n",
            "Epoch [44/50], Train Loss: 0.9781, Train Acc: 0.5888, Val Loss: 0.9738, Val Acc: 0.5636\n",
            "Epoch [45/50], Train Loss: 0.9694, Train Acc: 0.5898, Val Loss: 0.9077, Val Acc: 0.5904\n",
            "Epoch [46/50], Train Loss: 0.9945, Train Acc: 0.5693, Val Loss: 0.8578, Val Acc: 0.6150\n",
            "Epoch [47/50], Train Loss: 0.9882, Train Acc: 0.5886, Val Loss: 0.8766, Val Acc: 0.6127\n",
            "Epoch [48/50], Train Loss: 0.9800, Train Acc: 0.5951, Val Loss: 1.0385, Val Acc: 0.5446\n",
            "Epoch [49/50], Train Loss: 0.9561, Train Acc: 0.6099, Val Loss: 0.8968, Val Acc: 0.6127\n",
            "Epoch [50/50], Train Loss: 0.9545, Train Acc: 0.6058, Val Loss: 0.8941, Val Acc: 0.6105\n"
          ]
        }
      ],
      "source": [
        "train_loss_history, val_loss_history, train_acc_history, val_acc_history = train(\n",
        "    model_vgg16, criterion, optimizer, train_loader, val_loader, epochs)"
      ]
    },
    {
      "cell_type": "markdown",
      "metadata": {},
      "source": [
        "# Plot"
      ]
    },
    {
      "cell_type": "code",
      "execution_count": 43,
      "metadata": {
        "id": "bySNSZnY4nBx"
      },
      "outputs": [
        {
          "data": {
            "image/png": "[encoded data removed]",
            "text/plain": [
              "<Figure size 1200x500 with 2 Axes>"
            ]
          },
          "metadata": {},
          "output_type": "display_data"
        }
      ],
      "source": [
        "# Plotting the training and validation loss and accuracy\n",
        "plt.figure(figsize=(12, 5))\n",
        "plt.subplot(1, 2, 1)\n",
        "# Move the loss history to CPU and convert to NumPy arrays before plotting\n",
        "plt.plot(np.array([t.cpu() if hasattr(t, 'cpu') else t for t in train_loss_history]), label='Train Loss')\n",
        "plt.plot(np.array([t.cpu() if hasattr(t, 'cpu') else t for t in val_loss_history]), label='Val Loss')\n",
        "plt.xlabel('Epochs')\n",
        "plt.ylabel('Loss')\n",
        "plt.legend()\n",
        "\n",
        "plt.subplot(1, 2, 2)\n",
        "# Move the accuracy history to CPU and convert to NumPy arrays before plotting\n",
        "plt.plot(np.array([t.cpu() if hasattr(t, 'cpu') else t for t in train_acc_history]), label='Train Acc')\n",
        "plt.plot(np.array([t.cpu() if hasattr(t, 'cpu') else t for t in val_acc_history]), label='Val Acc')\n",
        "plt.xlabel('Epochs')\n",
        "plt.ylabel('Accuracy')\n",
        "plt.legend()\n",
        "\n",
        "plt.show()"
      ]
    },
    {
      "cell_type": "markdown",
      "metadata": {
        "id": "Zu3blvxW7vzZ"
      },
      "source": [
        "# Classification report"
      ]
    },
    {
      "cell_type": "markdown",
      "metadata": {},
      "source": [
        "# save "
      ]
    },
    {
      "cell_type": "code",
      "execution_count": 45,
      "metadata": {},
      "outputs": [],
      "source": [
        "torch.save(model_vgg16, 'models\\VGG_16_brain_tumor_segmentaion.pt')"
      ]
    },
    {
      "cell_type": "markdown",
      "metadata": {},
      "source": [
        "# Load Model"
      ]
    },
    {
      "cell_type": "code",
      "execution_count": 18,
      "metadata": {},
      "outputs": [],
      "source": [
        "vgg16 = torch.load(\"models\\VGG_16_brain_tumor_segmentaion.pt\")"
      ]
    },
    {
      "cell_type": "markdown",
      "metadata": {},
      "source": [
        "# Classification Report "
      ]
    },
    {
      "cell_type": "code",
      "execution_count": 21,
      "metadata": {},
      "outputs": [
        {
          "name": "stdout",
          "output_type": "stream",
          "text": [
            "              precision    recall  f1-score   support\n",
            "\n",
            "         0.0       0.50      0.51      0.50       197\n",
            "         1.0       0.45      0.45      0.45       271\n",
            "         2.0       0.72      0.91      0.80       321\n",
            "         3.0       0.70      0.46      0.56       265\n",
            "\n",
            "    accuracy                           0.60      1054\n",
            "   macro avg       0.59      0.58      0.58      1054\n",
            "weighted avg       0.60      0.60      0.59      1054\n",
            "\n"
          ]
        }
      ],
      "source": [
        "vgg16.cpu()\n",
        "\n",
        "# X_test = torch.permute(X_test, (0, 3, 1, 2))\n",
        "# Make predictions on the test set\n",
        "y_pred = vgg16(X_test.cpu())\n",
        "\n",
        "# Convert the predictions to class labels\n",
        "y_pred_classes = torch.argmax(y_pred, dim=1)\n",
        "\n",
        "# Import necessary libraries\n",
        "\n",
        "\n",
        "# Create a classification report\n",
        "report = classification_report(y_test, y_pred_classes)\n",
        "\n",
        "# Print the classification report\n",
        "print(report)\n"
      ]
    },
    {
      "cell_type": "markdown",
      "metadata": {},
      "source": [
        "# Confusion Matrix"
      ]
    },
    {
      "cell_type": "code",
      "execution_count": 22,
      "metadata": {},
      "outputs": [
        {
          "data": {
            "image/png": "[encoded data removed]",
            "text/plain": [
              "<Figure size 640x480 with 2 Axes>"
            ]
          },
          "metadata": {},
          "output_type": "display_data"
        },
        {
          "name": "stdout",
          "output_type": "stream",
          "text": [
            "[[101  79   5  12]\n",
            " [ 82 122  40  27]\n",
            " [  5  11 292  13]\n",
            " [ 16  57  70 122]]\n"
          ]
        }
      ],
      "source": [
        "vgg16.cpu()\n",
        "\n",
        "# Make predictions on the test set\n",
        "#X_test = torch.permute(X_test, (0, 3, 1, 2))\n",
        "y_pred = vgg16(X_test.cpu())\n",
        "\n",
        "# Convert the predictions to class labels\n",
        "y_pred_classes = torch.argmax(y_pred, dim=1)\n",
        "\n",
        "# Create a confusion matrix\n",
        "cm = confusion_matrix(y_test, y_pred_classes)\n",
        "ConfusionMatrixDisplay(cm).plot()\n",
        "plt.show()\n",
        "\n",
        "# Print the confusion matrix\n",
        "print(cm)"
      ]
    },
    {
      "cell_type": "code",
      "execution_count": null,
      "metadata": {},
      "outputs": [],
      "source": []
    }
  ],
  "metadata": {
    "accelerator": "GPU",
    "colab": {
      "gpuType": "T4",
      "provenance": []
    },
    "kaggle": {
      "accelerator": "nvidiaTeslaT4",
      "dataSources": [
        {
          "datasetId": 1608934,
          "sourceId": 2645886,
          "sourceType": "datasetVersion"
        }
      ],
      "isGpuEnabled": true,
      "isInternetEnabled": false,
      "language": "python",
      "sourceType": "notebook"
    },
    "kernelspec": {
      "display_name": "Python 3",
      "name": "python3"
    },
    "language_info": {
      "codemirror_mode": {
        "name": "ipython",
        "version": 3
      },
      "file_extension": ".py",
      "mimetype": "text/x-python",
      "name": "python",
      "nbconvert_exporter": "python",
      "pygments_lexer": "ipython3",
      "version": "3.10.11"
    }
  },
  "nbformat": 4,
  "nbformat_minor": 0
}
