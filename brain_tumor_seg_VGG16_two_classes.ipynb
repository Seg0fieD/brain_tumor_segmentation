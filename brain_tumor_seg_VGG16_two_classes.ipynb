{
  "cells": [
    {
      "cell_type": "markdown",
      "metadata": {
        "id": "4MWFFJRufQZT"
      },
      "source": [
        "### Import"
      ]
    },
    {
      "cell_type": "code",
      "execution_count": 1,
      "metadata": {
        "id": "Z-w8hbJlhJOa"
      },
      "outputs": [],
      "source": [
        "import os\n",
        "\n",
        "import numpy as np\n",
        "import pandas as pd\n",
        "import matplotlib.pyplot as plt\n",
        "from sklearn.metrics import accuracy_score\n",
        "from sklearn.model_selection import train_test_split\n",
        "from sklearn.utils import shuffle\n",
        "from sklearn.metrics import classification_report, confusion_matrix, ConfusionMatrixDisplay\n",
        "\n",
        "from PIL import Image\n",
        "\n",
        "import cv2\n",
        "\n",
        "import torch\n",
        "import torch.nn as nn\n",
        "import torch.nn.functional as F\n",
        "from torch.utils.data import random_split, DataLoader, Dataset, TensorDataset\n",
        "from torchsummary import summary\n",
        "import torchvision.transforms as transforms\n",
        "\n",
        "from torchvision.transforms import v2\n",
        "\n"
      ]
    },
    {
      "cell_type": "code",
      "execution_count": null,
      "metadata": {
        "colab": {
          "base_uri": "https://localhost:8080/"
        },
        "id": "3y_6Jx0yfQZX",
        "outputId": "08082d2a-f42e-4565-87fe-850872c5e497"
      },
      "outputs": [
        {
          "name": "stdout",
          "output_type": "stream",
          "text": [
            "Using cpu device\n"
          ]
        }
      ],
      "source": [
        "device = (\n",
        "    'cuda'\n",
        "    if torch.cuda.is_available()\n",
        "    else 'cpu'\n",
        ")\n",
        "\n",
        "print(f\"Using {device} device\")"
      ]
    },
    {
      "cell_type": "markdown",
      "metadata": {
        "id": "Rq8NBjVHhJOb"
      },
      "source": [
        "## Data extraction and shuffling"
      ]
    },
    {
      "cell_type": "code",
      "execution_count": 2,
      "metadata": {
        "id": "NhqjMMi7PuSr"
      },
      "outputs": [],
      "source": [
        "image_size = 150 #scaling a constant image size\n",
        "labels = ['glioma', 'meningioma', 'notumor', 'pituitary']"
      ]
    },
    {
      "cell_type": "markdown",
      "metadata": {},
      "source": [
        "##### Only Two class: tumor`[0]` or no-tumor `[1]`"
      ]
    },
    {
      "cell_type": "code",
      "execution_count": 20,
      "metadata": {
        "id": "qd1TLKm5j71X"
      },
      "outputs": [],
      "source": [
        "label_idx = {\n",
        "    'glioma': 0,\n",
        "    'meningioma': 0,\n",
        "    'notumor': 1,\n",
        "    'pituitary': 0\n",
        "}"
      ]
    },
    {
      "cell_type": "code",
      "execution_count": 3,
      "metadata": {
        "id": "EB5I1StzE1zm"
      },
      "outputs": [],
      "source": [
        "# # dict for 4 classes\n",
        "# label_idx = {\n",
        "#     'glioma': 0,\n",
        "#     'meningioma': 1,\n",
        "#     'notumor': 2,\n",
        "#     'pituitary': 3\n",
        "# }"
      ]
    },
    {
      "cell_type": "code",
      "execution_count": null,
      "metadata": {
        "id": "F280PeBShJOd"
      },
      "outputs": [],
      "source": [
        "\n",
        "X = []\n",
        "y = []\n",
        "\n",
        "for i in labels:\n",
        "    folderPath = os.path.join('data\\Training', i)                                  \n",
        "    for j in os.listdir(folderPath):                                               \n",
        "        img = cv2.imread(os.path.join(folderPath, j))\n",
        "        if img is not None:\n",
        "            img = cv2.resize(img,(image_size, image_size))                                        # resale the image\n",
        "            X.append(img)\n",
        "            y.append(label_idx[i])                                                          # the ith label will the y\n",
        "\n",
        "for i in labels:\n",
        "    folderPath = os.path.join('data\\Testing', i)\n",
        "    for j in os.listdir(folderPath):\n",
        "        img = cv2.imread(os.path.join(folderPath, j))\n",
        "        if img is not None:\n",
        "            img = cv2.resize(img,(image_size, image_size))\n",
        "            X.append(img)\n",
        "            y.append(label_idx[i])\n",
        "                                                                \n",
        "\n",
        "X = np.array(X, dtype = np.float32)\n",
        "y = np.array(y, dtype = np.float32)\n",
        "\n"
      ]
    },
    {
      "cell_type": "code",
      "execution_count": 22,
      "metadata": {
        "id": "c2HG7yH9fQZZ"
      },
      "outputs": [],
      "source": [
        "X = torch.from_numpy(X)\n",
        "y = torch.from_numpy(y)"
      ]
    },
    {
      "cell_type": "markdown",
      "metadata": {
        "id": "muTnFwj7hJOf"
      },
      "source": [
        "## Train Test Split"
      ]
    },
    {
      "cell_type": "code",
      "execution_count": 23,
      "metadata": {
        "id": "-gls9IgxhJOU"
      },
      "outputs": [
        {
          "data": {
            "text/plain": [
              "(torch.Size([7023, 150, 150, 3]), torch.Size([7023]))"
            ]
          },
          "execution_count": 23,
          "metadata": {},
          "output_type": "execute_result"
        }
      ],
      "source": [
        "X.shape, y.shape"
      ]
    },
    {
      "cell_type": "code",
      "execution_count": 24,
      "metadata": {
        "id": "JFWpuPuihJOf"
      },
      "outputs": [],
      "source": [
        "# split whole dataset into training and test set\n",
        "X_train_temp, X_test, y_train_temp, y_test = train_test_split(X, y, test_size = 0.15, random_state = 107, shuffle = True)\n",
        "\n",
        "# split training into train and validation set\n",
        "X_train, X_val, y_train, y_val = train_test_split(X_train_temp, y_train_temp, test_size = 0.15, random_state = 42, shuffle = True)"
      ]
    },
    {
      "cell_type": "markdown",
      "metadata": {
        "id": "IrmiMhVpfQZb"
      },
      "source": [
        "# Augmentation"
      ]
    },
    {
      "cell_type": "code",
      "execution_count": 25,
      "metadata": {
        "id": "p2yMWooSfQZb"
      },
      "outputs": [],
      "source": [
        "class AugmentedDataset(Dataset):\n",
        "    def __init__(self, images, labels, transform=None):\n",
        "        self.images = images\n",
        "        self.labels = labels\n",
        "        self.transform = transform\n",
        "\n",
        "    def __len__(self):\n",
        "        return len(self.images)\n",
        "\n",
        "    def __getitem__(self, idx):\n",
        "        image = self.images[idx]\n",
        "        label = self.labels[idx]\n",
        "        label = torch.as_tensor(label, dtype=torch.long)\n",
        "        image = torch.permute(image, (2, 0, 1))\n",
        "        if self.transform:\n",
        "\n",
        "            image = self.transform(image)\n",
        "\n",
        "        return image, label\n",
        "\n",
        "# Define data augmentations\n",
        "transform = transforms.Compose([\n",
        "    #transforms.ToPILImage(),\n",
        "    transforms.RandomHorizontalFlip(),\n",
        "    transforms.RandomRotation(10),\n",
        "    transforms.RandomResizedCrop(150)\n",
        "])\n",
        "\n",
        "\n",
        "\n",
        "# Prepare datasets with augmentations\n",
        "train_dataset = AugmentedDataset(X_train, y_train, transform=transform)\n",
        "val_dataset = AugmentedDataset(X_val, y_val)  # No augmentations for validation\n",
        "test_dataset = AugmentedDataset(X_test, y_test) #, transform=transforms.ToTensor())  # No augmentations for test\n",
        "\n"
      ]
    },
    {
      "cell_type": "markdown",
      "metadata": {
        "id": "Y_U89eQKfQZc"
      },
      "source": [
        "# Train loop"
      ]
    },
    {
      "cell_type": "code",
      "execution_count": 26,
      "metadata": {
        "id": "89Fv1TrmfQZc"
      },
      "outputs": [],
      "source": [
        "# Training function\n",
        "def train(model, criterion, optimizer, train_loader, val_loader, epochs):\n",
        "    train_loss_history = []\n",
        "    val_loss_history = []\n",
        "    train_acc_history = []\n",
        "    val_acc_history = []\n",
        "\n",
        "    for epoch in range(epochs):\n",
        "        model.train()\n",
        "        running_loss = 0.0\n",
        "        correct = 0\n",
        "        total = 0\n",
        "        #batch = 0\n",
        "\n",
        "        for image, label in train_loader:\n",
        "            image = image.to(device)  # Move image to device and convert to float\n",
        "            label = label.to(device)\n",
        "            outputs = model(image)\n",
        "\n",
        "            loss = criterion(outputs, label)\n",
        "            optimizer.zero_grad()\n",
        "            loss.backward()\n",
        "            optimizer.step()\n",
        "\n",
        "            running_loss += loss.item()\n",
        "            #_, predicted = torch.max(outputs.data, 1)\n",
        "            #total += label.size(0)\n",
        "            #correct += (predicted == label).sum().item()\n",
        "            # print(f\"Batch no. : {batch}\")\n",
        "            # batch = batch + 1\n",
        "\n",
        "            outputs_label = torch.argmax(outputs , dim = 1)\n",
        "            correct += torch.sum(outputs_label == label)\n",
        "            total += label.size(0)\n",
        "\n",
        "        train_loss = running_loss / len(train_loader)\n",
        "        train_acc = correct / total\n",
        "        train_loss_history.append(train_loss)\n",
        "        train_acc_history.append(train_acc)\n",
        "\n",
        "        # Validation\n",
        "        model.eval()\n",
        "        val_loss = 0.0\n",
        "        correct = 0\n",
        "        total = 0\n",
        "\n",
        "        with torch.no_grad():\n",
        "            for image, label in val_loader:\n",
        "                image = image.to(device)\n",
        "                label = label.to(device)\n",
        "                outputs = model(image)\n",
        "                #output_label = torch.argmax(outputs, dim = 1)\n",
        "                loss = criterion(outputs, label)\n",
        "                val_loss += loss.item()\n",
        "                _, predicted = torch.max(outputs.data, 1)\n",
        "                total += label.size(0)\n",
        "                correct += (predicted == label).sum().item()\n",
        "\n",
        "        val_loss = val_loss / len(val_loader)\n",
        "        val_acc = correct / total\n",
        "        val_loss_history.append(val_loss)\n",
        "        val_acc_history.append(val_acc)\n",
        "\n",
        "        print(f'Epoch [{epoch + 1}/{epochs}], Train Loss: {train_loss:.4f}, Train Acc: {train_acc:.4f}, Val Loss: {val_loss:.4f}, Val Acc: {val_acc:.4f}')\n",
        "\n",
        "    return train_loss_history, val_loss_history, train_acc_history, val_acc_history"
      ]
    },
    {
      "cell_type": "markdown",
      "metadata": {
        "id": "v88uixLLuhgK"
      },
      "source": [
        "# VGG-16 Model Architecture"
      ]
    },
    {
      "cell_type": "code",
      "execution_count": 27,
      "metadata": {
        "id": "IjQf072x8gYn"
      },
      "outputs": [],
      "source": [
        "class VGG16(nn.Module):\n",
        "    def __init__(self, num_classes):\n",
        "        super(VGG16, self).__init__()\n",
        "\n",
        "        self.features = nn.Sequential(\n",
        "            # Conv Block 1\n",
        "            nn.Conv2d(3, 64, kernel_size=3, padding=1),\n",
        "            nn.ReLU(inplace=True),\n",
        "            nn.Conv2d(64, 64, kernel_size=3, padding=1),\n",
        "            nn.ReLU(inplace=True),\n",
        "            nn.MaxPool2d(kernel_size=2, stride=2),\n",
        "\n",
        "            # Conv Block 2\n",
        "            nn.Conv2d(64, 128, kernel_size=3, padding=1),\n",
        "            nn.ReLU(inplace=True),\n",
        "            nn.Conv2d(128, 128, kernel_size=3, padding=1),\n",
        "            nn.ReLU(inplace=True),\n",
        "            nn.MaxPool2d(kernel_size=2, stride=2),\n",
        "\n",
        "            # Conv Block 3\n",
        "            nn.Conv2d(128, 256, kernel_size=3, padding=1),\n",
        "            nn.ReLU(inplace=True),\n",
        "            nn.Conv2d(256, 256, kernel_size=3, padding=1),\n",
        "            nn.ReLU(inplace=True),\n",
        "            nn.Conv2d(256, 256, kernel_size=3, padding=1),\n",
        "            nn.ReLU(inplace=True),\n",
        "            nn.MaxPool2d(kernel_size=2, stride=2),\n",
        "\n",
        "            # Conv Block 4\n",
        "            nn.Conv2d(256, 512, kernel_size=3, padding=1),\n",
        "            nn.ReLU(inplace=True),\n",
        "            nn.Conv2d(512, 512, kernel_size=3, padding=1),\n",
        "            nn.ReLU(inplace=True),\n",
        "            nn.Conv2d(512, 512, kernel_size=3, padding=1),\n",
        "            nn.ReLU(inplace=True),\n",
        "            nn.MaxPool2d(kernel_size=2, stride=2),\n",
        "\n",
        "            # Conv Block 5\n",
        "            nn.Conv2d(512, 512, kernel_size=3, padding=1),\n",
        "            nn.ReLU(inplace=True),\n",
        "            nn.Conv2d(512, 512, kernel_size=3, padding=1),\n",
        "            nn.ReLU(inplace=True),\n",
        "            nn.Conv2d(512, 512, kernel_size=3, padding=1),\n",
        "            nn.ReLU(inplace=True),\n",
        "            nn.MaxPool2d(kernel_size=2, stride=2),\n",
        "        )\n",
        "\n",
        "        self.classifier = nn.Sequential(\n",
        "            nn.Linear(512 * 4 * 4, 4096),  # Adjusted input size to 512*4*4\n",
        "            nn.ReLU(inplace=True),\n",
        "            nn.Dropout(),\n",
        "            nn.Linear(4096, 4096),\n",
        "            nn.ReLU(inplace=True),\n",
        "            nn.Dropout(),\n",
        "            nn.Linear(4096, num_classes),\n",
        "        )\n",
        "\n",
        "    def forward(self, x):\n",
        "        x = self.features(x)\n",
        "        x = x.reshape(x.size(0), -1)\n",
        "        x = self.classifier(x)\n",
        "        return x\n"
      ]
    },
    {
      "cell_type": "code",
      "execution_count": 28,
      "metadata": {
        "colab": {
          "base_uri": "https://localhost:8080/"
        },
        "id": "211gvpequhgK",
        "outputId": "e424cc84-c32d-4bd3-b0a2-466af698b6c4"
      },
      "outputs": [
        {
          "name": "stdout",
          "output_type": "stream",
          "text": [
            "<class '__main__.VGG16'>\n"
          ]
        }
      ],
      "source": [
        "print(VGG16)"
      ]
    },
    {
      "cell_type": "markdown",
      "metadata": {
        "id": "X9Y0pM8ffQZc"
      },
      "source": [
        "# parameters arguments"
      ]
    },
    {
      "cell_type": "code",
      "execution_count": 31,
      "metadata": {
        "id": "ZWkw62inhJOj"
      },
      "outputs": [],
      "source": [
        "\n",
        "# initialize model\n",
        "model_vgg16 = VGG16(num_classes = 2)\n",
        "\n",
        "# move model to device\n",
        "device = torch.device(\"cuda\" if torch.cuda.is_available() else \"cpu\")\n",
        "model_vgg16.to(device)\n",
        "\n",
        "# loss funtion\n",
        "criterion = nn.CrossEntropyLoss()\n",
        "\n",
        "# optimizer\n",
        "optimizer = torch.optim.Adam(model_vgg16.parameters(), lr  = 1e-3)\n",
        "\n",
        "# epoch\n",
        "epochs  = 100\n",
        "\n",
        "#batch size\n",
        "batch_size = 100\n",
        "\n",
        "# threads\n",
        "num_workers = 2"
      ]
    },
    {
      "cell_type": "code",
      "execution_count": 32,
      "metadata": {
        "id": "QfkT-kzwfQZc"
      },
      "outputs": [],
      "source": [
        "train_loader = DataLoader(train_dataset, batch_size=batch_size, shuffle=True)#, num_workers=num_workers)#, pin_memory=True)\n",
        "val_loader = DataLoader(val_dataset, batch_size=batch_size, shuffle=True)#, num_workers=num_workers)#, pin_memory=True)\n"
      ]
    },
    {
      "cell_type": "code",
      "execution_count": 33,
      "metadata": {
        "colab": {
          "base_uri": "https://localhost:8080/"
        },
        "id": "y4bVFP0NfQZc",
        "outputId": "964e597a-af59-4061-976e-ae3cc09ebfa7"
      },
      "outputs": [
        {
          "name": "stdout",
          "output_type": "stream",
          "text": [
            "Model is on cuda:0\n"
          ]
        }
      ],
      "source": [
        "device = next(model_vgg16.parameters()).device\n",
        "print(f\"Model is on {device}\")"
      ]
    },
    {
      "cell_type": "markdown",
      "metadata": {
        "id": "1fUIyQZYfQZd"
      },
      "source": [
        "# VGG-16 Model Training"
      ]
    },
    {
      "cell_type": "code",
      "execution_count": null,
      "metadata": {
        "colab": {
          "base_uri": "https://localhost:8080/"
        },
        "id": "IOQ2J-OquhgL",
        "outputId": "094f97d6-63f3-43bb-e9df-60dc922af4e4"
      },
      "outputs": [
        {
          "name": "stdout",
          "output_type": "stream",
          "text": [
            "Epoch [1/100], Train Loss: 1.3197, Train Acc: 0.3459, Val Loss: 1.1134, Val Acc: 0.4721\n",
            "Epoch [2/100], Train Loss: 1.0654, Train Acc: 0.5393, Val Loss: 0.9565, Val Acc: 0.6228\n",
            "Epoch [3/100], Train Loss: 0.9944, Train Acc: 0.5896, Val Loss: 0.9541, Val Acc: 0.5949\n",
            "Epoch [4/100], Train Loss: 0.9385, Train Acc: 0.6184, Val Loss: 0.8453, Val Acc: 0.6239\n",
            "Epoch [5/100], Train Loss: 0.9051, Train Acc: 0.6326, Val Loss: 0.9300, Val Acc: 0.6127\n",
            "Epoch [6/100], Train Loss: 0.8666, Train Acc: 0.6491, Val Loss: 0.9063, Val Acc: 0.6283\n",
            "Epoch [7/100], Train Loss: 0.8418, Train Acc: 0.6568, Val Loss: 0.8480, Val Acc: 0.6473\n",
            "Epoch [8/100], Train Loss: 0.8290, Train Acc: 0.6613, Val Loss: 0.6784, Val Acc: 0.7556\n",
            "Epoch [9/100], Train Loss: 0.7886, Train Acc: 0.6840, Val Loss: 0.7474, Val Acc: 0.7165\n",
            "Epoch [10/100], Train Loss: 0.7595, Train Acc: 0.7004, Val Loss: 0.6809, Val Acc: 0.7076\n",
            "Epoch [11/100], Train Loss: 0.7109, Train Acc: 0.7191, Val Loss: 0.6125, Val Acc: 0.7913\n",
            "Epoch [12/100], Train Loss: 0.6871, Train Acc: 0.7299, Val Loss: 0.4862, Val Acc: 0.8248\n",
            "Epoch [13/100], Train Loss: 0.6940, Train Acc: 0.7187, Val Loss: 0.5156, Val Acc: 0.7980\n",
            "Epoch [14/100], Train Loss: 0.6639, Train Acc: 0.7335, Val Loss: 0.6050, Val Acc: 0.7734\n",
            "Epoch [15/100], Train Loss: 0.6617, Train Acc: 0.7361, Val Loss: 0.4679, Val Acc: 0.8315\n",
            "Epoch [16/100], Train Loss: 0.6235, Train Acc: 0.7573, Val Loss: 0.4792, Val Acc: 0.8192\n",
            "Epoch [17/100], Train Loss: 0.5960, Train Acc: 0.7702, Val Loss: 0.6305, Val Acc: 0.7634\n",
            "Epoch [18/100], Train Loss: 0.5904, Train Acc: 0.7654, Val Loss: 0.5330, Val Acc: 0.8080\n",
            "Epoch [19/100], Train Loss: 0.5690, Train Acc: 0.7757, Val Loss: 0.3819, Val Acc: 0.8527\n",
            "Epoch [20/100], Train Loss: 0.5371, Train Acc: 0.7851, Val Loss: 0.4452, Val Acc: 0.8259\n",
            "Epoch [21/100], Train Loss: 0.5367, Train Acc: 0.7905, Val Loss: 0.5807, Val Acc: 0.7812\n",
            "Epoch [22/100], Train Loss: 0.5534, Train Acc: 0.7843, Val Loss: 0.4100, Val Acc: 0.8270\n",
            "Epoch [23/100], Train Loss: 0.5097, Train Acc: 0.8003, Val Loss: 0.4006, Val Acc: 0.8449\n",
            "Epoch [24/100], Train Loss: 0.5133, Train Acc: 0.7993, Val Loss: 0.3332, Val Acc: 0.8761\n",
            "Epoch [25/100], Train Loss: 0.4674, Train Acc: 0.8106, Val Loss: 0.3166, Val Acc: 0.8694\n",
            "Epoch [26/100], Train Loss: 0.4644, Train Acc: 0.8159, Val Loss: 0.3276, Val Acc: 0.8783\n",
            "Epoch [27/100], Train Loss: 0.4630, Train Acc: 0.8157, Val Loss: 0.2916, Val Acc: 0.8940\n",
            "Epoch [28/100], Train Loss: 0.4392, Train Acc: 0.8297, Val Loss: 0.3408, Val Acc: 0.8895\n",
            "Epoch [29/100], Train Loss: 0.4637, Train Acc: 0.8153, Val Loss: 0.2363, Val Acc: 0.9141\n",
            "Epoch [30/100], Train Loss: 0.4383, Train Acc: 0.8293, Val Loss: 0.2422, Val Acc: 0.9174\n",
            "Epoch [31/100], Train Loss: 0.4101, Train Acc: 0.8386, Val Loss: 0.2806, Val Acc: 0.9018\n",
            "Epoch [32/100], Train Loss: 0.3970, Train Acc: 0.8470, Val Loss: 0.4375, Val Acc: 0.8248\n",
            "Epoch [33/100], Train Loss: 0.4087, Train Acc: 0.8395, Val Loss: 0.2127, Val Acc: 0.9174\n",
            "Epoch [34/100], Train Loss: 0.3843, Train Acc: 0.8494, Val Loss: 0.2088, Val Acc: 0.9263\n",
            "Epoch [35/100], Train Loss: 0.3961, Train Acc: 0.8486, Val Loss: 0.1906, Val Acc: 0.9286\n",
            "Epoch [36/100], Train Loss: 0.3528, Train Acc: 0.8618, Val Loss: 0.2077, Val Acc: 0.9185\n",
            "Epoch [37/100], Train Loss: 0.3536, Train Acc: 0.8671, Val Loss: 0.2029, Val Acc: 0.9185\n",
            "Epoch [38/100], Train Loss: 0.3409, Train Acc: 0.8713, Val Loss: 0.2805, Val Acc: 0.8728\n",
            "Epoch [39/100], Train Loss: 0.3071, Train Acc: 0.8811, Val Loss: 0.2147, Val Acc: 0.9208\n",
            "Epoch [40/100], Train Loss: 0.3344, Train Acc: 0.8738, Val Loss: 0.1985, Val Acc: 0.9275\n",
            "Epoch [41/100], Train Loss: 0.3099, Train Acc: 0.8845, Val Loss: 0.2476, Val Acc: 0.8940\n",
            "Epoch [42/100], Train Loss: 0.3056, Train Acc: 0.8831, Val Loss: 0.1762, Val Acc: 0.9297\n",
            "Epoch [43/100], Train Loss: 0.2868, Train Acc: 0.8945, Val Loss: 0.3670, Val Acc: 0.8828\n",
            "Epoch [44/100], Train Loss: 0.2830, Train Acc: 0.8888, Val Loss: 0.2201, Val Acc: 0.9219\n",
            "Epoch [45/100], Train Loss: 0.3081, Train Acc: 0.8884, Val Loss: 0.1454, Val Acc: 0.9531\n",
            "Epoch [46/100], Train Loss: 0.2742, Train Acc: 0.8991, Val Loss: 0.2503, Val Acc: 0.8951\n",
            "Epoch [47/100], Train Loss: 0.2588, Train Acc: 0.9026, Val Loss: 0.1159, Val Acc: 0.9565\n",
            "Epoch [48/100], Train Loss: 0.2517, Train Acc: 0.9007, Val Loss: 0.1512, Val Acc: 0.9431\n",
            "Epoch [49/100], Train Loss: 0.2620, Train Acc: 0.9032, Val Loss: 0.2534, Val Acc: 0.9118\n",
            "Epoch [50/100], Train Loss: 0.2490, Train Acc: 0.9048, Val Loss: 0.1378, Val Acc: 0.9475\n",
            "Epoch [51/100], Train Loss: 0.2797, Train Acc: 0.8904, Val Loss: 0.1011, Val Acc: 0.9632\n",
            "Epoch [52/100], Train Loss: 0.2420, Train Acc: 0.9081, Val Loss: 0.5659, Val Acc: 0.8371\n",
            "Epoch [53/100], Train Loss: 0.2506, Train Acc: 0.9036, Val Loss: 0.1034, Val Acc: 0.9643\n",
            "Epoch [54/100], Train Loss: 0.2239, Train Acc: 0.9160, Val Loss: 0.1550, Val Acc: 0.9464\n",
            "Epoch [55/100], Train Loss: 0.2345, Train Acc: 0.9162, Val Loss: 0.1081, Val Acc: 0.9609\n",
            "Epoch [56/100], Train Loss: 0.2122, Train Acc: 0.9233, Val Loss: 0.1337, Val Acc: 0.9520\n",
            "Epoch [57/100], Train Loss: 0.1976, Train Acc: 0.9286, Val Loss: 0.1230, Val Acc: 0.9587\n",
            "Epoch [58/100], Train Loss: 0.2620, Train Acc: 0.9005, Val Loss: 0.1139, Val Acc: 0.9565\n",
            "Epoch [59/100], Train Loss: 0.1936, Train Acc: 0.9322, Val Loss: 0.0919, Val Acc: 0.9621\n",
            "Epoch [60/100], Train Loss: 0.2240, Train Acc: 0.9152, Val Loss: 0.1209, Val Acc: 0.9632\n",
            "Epoch [61/100], Train Loss: 0.1974, Train Acc: 0.9277, Val Loss: 0.0983, Val Acc: 0.9654\n",
            "Epoch [62/100], Train Loss: 0.2192, Train Acc: 0.9168, Val Loss: 0.1260, Val Acc: 0.9609\n",
            "Epoch [63/100], Train Loss: 0.1998, Train Acc: 0.9271, Val Loss: 0.1383, Val Acc: 0.9576\n",
            "Epoch [64/100], Train Loss: 0.2226, Train Acc: 0.9198, Val Loss: 0.0934, Val Acc: 0.9654\n",
            "Epoch [65/100], Train Loss: 0.1906, Train Acc: 0.9271, Val Loss: 0.1089, Val Acc: 0.9665\n",
            "Epoch [66/100], Train Loss: 0.2042, Train Acc: 0.9227, Val Loss: 0.0690, Val Acc: 0.9743\n",
            "Epoch [67/100], Train Loss: 0.1849, Train Acc: 0.9361, Val Loss: 0.0967, Val Acc: 0.9598\n",
            "Epoch [68/100], Train Loss: 0.1966, Train Acc: 0.9249, Val Loss: 0.1471, Val Acc: 0.9453\n",
            "Epoch [69/100], Train Loss: 0.1880, Train Acc: 0.9267, Val Loss: 0.3299, Val Acc: 0.8973\n",
            "Epoch [70/100], Train Loss: 0.1847, Train Acc: 0.9284, Val Loss: 0.0851, Val Acc: 0.9665\n",
            "Epoch [71/100], Train Loss: 0.1742, Train Acc: 0.9336, Val Loss: 0.1022, Val Acc: 0.9554\n",
            "Epoch [72/100], Train Loss: 0.1872, Train Acc: 0.9251, Val Loss: 0.0813, Val Acc: 0.9676\n",
            "Epoch [73/100], Train Loss: 0.1719, Train Acc: 0.9348, Val Loss: 0.0711, Val Acc: 0.9743\n",
            "Epoch [74/100], Train Loss: 0.1628, Train Acc: 0.9393, Val Loss: 0.0612, Val Acc: 0.9710\n",
            "Epoch [75/100], Train Loss: 0.1737, Train Acc: 0.9344, Val Loss: 0.1103, Val Acc: 0.9609\n",
            "Epoch [76/100], Train Loss: 0.1742, Train Acc: 0.9310, Val Loss: 0.0983, Val Acc: 0.9531\n",
            "Epoch [77/100], Train Loss: 0.1764, Train Acc: 0.9308, Val Loss: 0.0667, Val Acc: 0.9732\n",
            "Epoch [78/100], Train Loss: 0.1780, Train Acc: 0.9324, Val Loss: 0.1090, Val Acc: 0.9542\n",
            "Epoch [79/100], Train Loss: 0.1672, Train Acc: 0.9357, Val Loss: 0.0947, Val Acc: 0.9665\n",
            "Epoch [80/100], Train Loss: 0.1526, Train Acc: 0.9460, Val Loss: 0.0671, Val Acc: 0.9732\n",
            "Epoch [81/100], Train Loss: 0.1645, Train Acc: 0.9371, Val Loss: 0.0581, Val Acc: 0.9721\n",
            "Epoch [82/100], Train Loss: 0.1664, Train Acc: 0.9399, Val Loss: 0.0878, Val Acc: 0.9699\n",
            "Epoch [83/100], Train Loss: 0.1650, Train Acc: 0.9397, Val Loss: 0.0777, Val Acc: 0.9766\n",
            "Epoch [84/100], Train Loss: 0.1552, Train Acc: 0.9377, Val Loss: 0.0580, Val Acc: 0.9732\n",
            "Epoch [85/100], Train Loss: 0.1647, Train Acc: 0.9385, Val Loss: 0.2210, Val Acc: 0.9330\n",
            "Epoch [86/100], Train Loss: 0.1503, Train Acc: 0.9442, Val Loss: 0.0601, Val Acc: 0.9788\n",
            "Epoch [87/100], Train Loss: 0.1561, Train Acc: 0.9428, Val Loss: 0.0748, Val Acc: 0.9732\n",
            "Epoch [88/100], Train Loss: 0.1515, Train Acc: 0.9456, Val Loss: 0.0610, Val Acc: 0.9810\n",
            "Epoch [89/100], Train Loss: 0.1749, Train Acc: 0.9371, Val Loss: 0.0675, Val Acc: 0.9788\n",
            "Epoch [90/100], Train Loss: 0.1515, Train Acc: 0.9446, Val Loss: 0.0493, Val Acc: 0.9866\n",
            "Epoch [91/100], Train Loss: 0.1508, Train Acc: 0.9468, Val Loss: 0.1786, Val Acc: 0.9420\n",
            "Epoch [92/100], Train Loss: 0.1507, Train Acc: 0.9462, Val Loss: 0.0557, Val Acc: 0.9799\n",
            "Epoch [93/100], Train Loss: 0.1399, Train Acc: 0.9484, Val Loss: 0.0897, Val Acc: 0.9710\n",
            "Epoch [94/100], Train Loss: 0.1387, Train Acc: 0.9468, Val Loss: 0.0928, Val Acc: 0.9710\n",
            "Epoch [95/100], Train Loss: 0.1481, Train Acc: 0.9450, Val Loss: 0.0627, Val Acc: 0.9844\n",
            "Epoch [96/100], Train Loss: 0.1586, Train Acc: 0.9405, Val Loss: 0.1395, Val Acc: 0.9498\n",
            "Epoch [97/100], Train Loss: 0.1573, Train Acc: 0.9403, Val Loss: 0.0587, Val Acc: 0.9821\n",
            "Epoch [98/100], Train Loss: 0.1452, Train Acc: 0.9462, Val Loss: 0.0493, Val Acc: 0.9844\n",
            "Epoch [99/100], Train Loss: 0.1437, Train Acc: 0.9466, Val Loss: 0.1963, Val Acc: 0.9464\n",
            "Epoch [100/100], Train Loss: 0.1398, Train Acc: 0.9452, Val Loss: 0.0754, Val Acc: 0.9721\n"
          ]
        }
      ],
      "source": [
        "# train_loss_history, val_loss_history, train_acc_history, val_acc_history = train(\n",
        "#     model_vgg16, criterion, optimizer, train_loader, val_loader, epochs) "
      ]
    },
    {
      "cell_type": "markdown",
      "metadata": {
        "id": "I8fD1t9tuhgM"
      },
      "source": [
        "# Plot"
      ]
    },
    {
      "cell_type": "code",
      "execution_count": null,
      "metadata": {
        "colab": {
          "base_uri": "https://localhost:8080/",
          "height": 465
        },
        "id": "bySNSZnY4nBx",
        "outputId": "82b7e6f2-c49d-4b59-a4b9-81cdb1aa5e35"
      },
      "outputs": [
        {
          "data": {
            "image/png": "[encoded data removed]",
            "text/plain": [
              "<Figure size 1200x500 with 2 Axes>"
            ]
          },
          "metadata": {},
          "output_type": "display_data"
        }
      ],
      "source": [
        "# Plotting the training and validation loss and accuracy\n",
        "plt.figure(figsize=(12, 5))\n",
        "plt.subplot(1, 2, 1)\n",
        "# Move the loss history to CPU and convert to NumPy arrays before plotting\n",
        "plt.plot(np.array([t.cpu() if hasattr(t, 'cpu') else t for t in train_loss_history]), label='Train Loss')\n",
        "plt.plot(np.array([t.cpu() if hasattr(t, 'cpu') else t for t in val_loss_history]), label='Val Loss')\n",
        "plt.xlabel('Epochs')\n",
        "plt.ylabel('Loss')\n",
        "plt.legend()\n",
        "\n",
        "plt.subplot(1, 2, 2)\n",
        "# Move the accuracy history to CPU and convert to NumPy arrays before plotting\n",
        "plt.plot(np.array([t.cpu() if hasattr(t, 'cpu') else t for t in train_acc_history]), label='Train Acc')\n",
        "plt.plot(np.array([t.cpu() if hasattr(t, 'cpu') else t for t in val_acc_history]), label='Val Acc')\n",
        "plt.xlabel('Epochs')\n",
        "plt.ylabel('Accuracy')\n",
        "plt.legend()\n",
        "\n",
        "plt.show()"
      ]
    },
    {
      "cell_type": "markdown",
      "metadata": {},
      "source": [
        "# Load vgg16_2 class"
      ]
    },
    {
      "cell_type": "code",
      "execution_count": 36,
      "metadata": {},
      "outputs": [],
      "source": [
        "vgg16_2_class = torch.load('model\\\\vgg_16_model_2_classes.pt')"
      ]
    },
    {
      "cell_type": "code",
      "execution_count": 37,
      "metadata": {},
      "outputs": [
        {
          "data": {
            "text/plain": [
              "VGG16(\n",
              "  (features): Sequential(\n",
              "    (0): Conv2d(3, 64, kernel_size=(3, 3), stride=(1, 1), padding=(1, 1))\n",
              "    (1): ReLU(inplace=True)\n",
              "    (2): Conv2d(64, 64, kernel_size=(3, 3), stride=(1, 1), padding=(1, 1))\n",
              "    (3): ReLU(inplace=True)\n",
              "    (4): MaxPool2d(kernel_size=2, stride=2, padding=0, dilation=1, ceil_mode=False)\n",
              "    (5): Conv2d(64, 128, kernel_size=(3, 3), stride=(1, 1), padding=(1, 1))\n",
              "    (6): ReLU(inplace=True)\n",
              "    (7): Conv2d(128, 128, kernel_size=(3, 3), stride=(1, 1), padding=(1, 1))\n",
              "    (8): ReLU(inplace=True)\n",
              "    (9): MaxPool2d(kernel_size=2, stride=2, padding=0, dilation=1, ceil_mode=False)\n",
              "    (10): Conv2d(128, 256, kernel_size=(3, 3), stride=(1, 1), padding=(1, 1))\n",
              "    (11): ReLU(inplace=True)\n",
              "    (12): Conv2d(256, 256, kernel_size=(3, 3), stride=(1, 1), padding=(1, 1))\n",
              "    (13): ReLU(inplace=True)\n",
              "    (14): Conv2d(256, 256, kernel_size=(3, 3), stride=(1, 1), padding=(1, 1))\n",
              "    (15): ReLU(inplace=True)\n",
              "    (16): MaxPool2d(kernel_size=2, stride=2, padding=0, dilation=1, ceil_mode=False)\n",
              "    (17): Conv2d(256, 512, kernel_size=(3, 3), stride=(1, 1), padding=(1, 1))\n",
              "    (18): ReLU(inplace=True)\n",
              "    (19): Conv2d(512, 512, kernel_size=(3, 3), stride=(1, 1), padding=(1, 1))\n",
              "    (20): ReLU(inplace=True)\n",
              "    (21): Conv2d(512, 512, kernel_size=(3, 3), stride=(1, 1), padding=(1, 1))\n",
              "    (22): ReLU(inplace=True)\n",
              "    (23): MaxPool2d(kernel_size=2, stride=2, padding=0, dilation=1, ceil_mode=False)\n",
              "    (24): Conv2d(512, 512, kernel_size=(3, 3), stride=(1, 1), padding=(1, 1))\n",
              "    (25): ReLU(inplace=True)\n",
              "    (26): Conv2d(512, 512, kernel_size=(3, 3), stride=(1, 1), padding=(1, 1))\n",
              "    (27): ReLU(inplace=True)\n",
              "    (28): Conv2d(512, 512, kernel_size=(3, 3), stride=(1, 1), padding=(1, 1))\n",
              "    (29): ReLU(inplace=True)\n",
              "    (30): MaxPool2d(kernel_size=2, stride=2, padding=0, dilation=1, ceil_mode=False)\n",
              "  )\n",
              "  (classifier): Sequential(\n",
              "    (0): Linear(in_features=8192, out_features=4096, bias=True)\n",
              "    (1): ReLU(inplace=True)\n",
              "    (2): Dropout(p=0.5, inplace=False)\n",
              "    (3): Linear(in_features=4096, out_features=4096, bias=True)\n",
              "    (4): ReLU(inplace=True)\n",
              "    (5): Dropout(p=0.5, inplace=False)\n",
              "    (6): Linear(in_features=4096, out_features=2, bias=True)\n",
              "  )\n",
              ")"
            ]
          },
          "execution_count": 37,
          "metadata": {},
          "output_type": "execute_result"
        }
      ],
      "source": [
        "vgg16_2_class.cpu()"
      ]
    },
    {
      "cell_type": "markdown",
      "metadata": {},
      "source": [
        "### Classification Report "
      ]
    },
    {
      "cell_type": "code",
      "execution_count": 41,
      "metadata": {},
      "outputs": [
        {
          "name": "stdout",
          "output_type": "stream",
          "text": [
            "              precision    recall  f1-score   support\n",
            "\n",
            "         0.0       1.00      0.92      0.96       733\n",
            "         1.0       0.85      0.99      0.91       321\n",
            "\n",
            "    accuracy                           0.94      1054\n",
            "   macro avg       0.92      0.96      0.94      1054\n",
            "weighted avg       0.95      0.94      0.94      1054\n",
            "\n"
          ]
        }
      ],
      "source": [
        "X_test = torch.permute(X_test, (0,  3,  2, 1))\n",
        "# Make predictions on the test set\n",
        "y_pred_2 = vgg16_2_class(X_test.cpu())\n",
        "\n",
        "# Convert the predictions to class labels\n",
        "y_pred_2_classes = torch.argmax(y_pred_2, dim=1)\n",
        "\n",
        "# Import necessary libraries\n",
        "\n",
        "\n",
        "# Create a classification report\n",
        "report_2 = classification_report(y_test, y_pred_2_classes)\n",
        "\n",
        "# Print the classification report\n",
        "print(report_2)\n"
      ]
    },
    {
      "cell_type": "markdown",
      "metadata": {},
      "source": [
        "### Confusion Matrix "
      ]
    },
    {
      "cell_type": "code",
      "execution_count": 42,
      "metadata": {},
      "outputs": [
        {
          "data": {
            "image/png": "[encoded data removed]",
            "text/plain": [
              "<Figure size 640x480 with 2 Axes>"
            ]
          },
          "metadata": {},
          "output_type": "display_data"
        },
        {
          "name": "stdout",
          "output_type": "stream",
          "text": [
            "[[675  58]\n",
            " [  2 319]]\n"
          ]
        }
      ],
      "source": [
        "# Create a confusion matrix\n",
        "cm_2 = confusion_matrix(y_test, y_pred_2_classes)\n",
        "ConfusionMatrixDisplay(cm_2).plot()\n",
        "plt.show()\n",
        "\n",
        "# Print the confusion matrix\n",
        "print(cm_2)"
      ]
    }
  ],
  "metadata": {
    "accelerator": "TPU",
    "colab": {
      "gpuType": "V28",
      "provenance": []
    },
    "kaggle": {
      "accelerator": "nvidiaTeslaT4",
      "dataSources": [
        {
          "datasetId": 1608934,
          "sourceId": 2645886,
          "sourceType": "datasetVersion"
        }
      ],
      "isGpuEnabled": true,
      "isInternetEnabled": false,
      "language": "python",
      "sourceType": "notebook"
    },
    "kernelspec": {
      "display_name": "Python 3",
      "name": "python3"
    },
    "language_info": {
      "codemirror_mode": {
        "name": "ipython",
        "version": 3
      },
      "file_extension": ".py",
      "mimetype": "text/x-python",
      "name": "python",
      "nbconvert_exporter": "python",
      "pygments_lexer": "ipython3",
      "version": "3.10.11"
    }
  },
  "nbformat": 4,
  "nbformat_minor": 0
}
